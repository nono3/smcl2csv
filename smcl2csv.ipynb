{
 "cells": [
  {
   "cell_type": "code",
   "execution_count": 1,
   "metadata": {},
   "outputs": [
    {
     "name": "stdout",
     "output_type": "stream",
     "text": [ ]
    }
   ],
   "source": [
    "#!/usr/bin/env python\n",
    "# newest decoder 2018-11-13 for both Win & OSX CSV version\n",
    "import re\n",
    "\n",
    "text='''/PATH/filename.smcll'''\n",
    "\n",
    "print(text)\n",
    "text=text.split(\"\\n\")\n",
    "path=re.sub(r'\\\\(\\S+)',r'//\\1',text[0])\n",
    "path=re.sub(r'\\\\(\\S+)',r'//\\1',path)\n",
    "path=re.sub(r'\\\\',r'/',path)\n",
    "#path=re.sub(r'(.*)',r'\\1/',path)\n",
    "path=re.sub(r'(\\A.*/).+\\Z',r'\\1',path)\n",
    "print(path)\n",
    "text=[re.sub(r'\\A.*/(.+\\Z)',r'\\1',x) for x in text]\n",
    "print(text)\n",
    "print(\"---\")\n",
    "\n",
    "'''\n",
    "print(text)\n",
    "text=text.split(\"\\n\")\n",
    "#text=text[1:-1]\n",
    "path=text[0].split('\"')\n",
    "path=path[1]\n",
    "path=re.sub(r'\\\\(\\S+)',r'//\\1',path)\n",
    "path=re.sub(r'\\\\',r'/',path)\n",
    "path=re.sub(r'(.*)',r'\\1/',path)\n",
    "print(path)\n",
    "'''\n",
    "\n",
    "\n",
    "#text=text[1:]\n",
    "filenames=[]\n",
    "for i in range(len(text)):\n",
    "    filenames.append(text[0].split(\".smcl\")[0])\n",
    "    text=text[1:]\n",
    "print(filenames)\n",
    "\n",
    "for filename in filenames:\n",
    "\n",
    "    if filename==\"\":\n",
    "        break\n",
    "    else:\n",
    "        f = open(path + '{0}.smcl'.format(filename), 'r' ,encoding=\"utf_8\")\n",
    "        print(\"0/10\")\n",
    "        a=[]\n",
    "        for line in f:\n",
    "            a.append(line)\n",
    "        f.close()\n",
    "       \n",
    "        a=[x.replace('combined {c |}{res}','__changeherelater__') for x in a]\n",
    "        a=[x.replace('{txt}{c |}{res}','__changeherelater2__') for x in a]\n",
    "        a=[re.sub(r'(Factor\\s{3,}Level\\s{3,}0)\\s{3,}(1)\\s{3,}(p-value)',r'\\1__changeherelater3__\\2__changeherelater3__\\3',x) for x in a]\n",
    "        a=[re.sub(r'(N)\\s{3,}(\\d+)\\s{3,}(\\d+)',r'\\1__changeherelater3__\\2__changeherelater3__\\3',x) for x in a]\n",
    "        a=[re.sub(r'(\\S+,\\smean\\s\\(SD\\))\\s{3,}(\\d+)',r'\\1__changeherelater3__\\2',x) for x in a]\n",
    "        a=[re.sub(r'(\\A\\{res\\}\\{txt\\})\\s\\s(\\{c\\sTLC\\}\\{hline\\s16\\})',r'\\1\\2',x) for x in a]\n",
    "        a=[re.sub(r'\\A\\s\\s(\\{c\\s)',r'\\1',x) for x in a]\n",
    "        a=[re.sub(r'\\A\\{txt\\}\\s+\\.',r'.',x) for x in a]\n",
    "        a=[re.sub(r',(\\d{3,})',r'\\1',x) for x in a]\n",
    "        a=[re.sub(r',(\\d{3,})',r'\\1',x) for x in a]\n",
    "            \n",
    "        a=[re.sub(r'\\s+(name:\\s\\s\\{res\\})',r'\\1',x) for x in a]  \n",
    "        a=[re.sub(r'\\s+(Group)',r'\\1',x) for x in a] \n",
    "        a=[re.sub(r'\\s+({txt}log)',r'\\1',x) for x in a] \n",
    "        a=[re.sub(r'\\s+({txt}opened on:)',r'\\1',x) for x in a] \n",
    "        #a=[re.sub(r'Pr =\\s\\{res\\}0\\.000',r'Pr = \\t<0.001',x) for x in a] \n",
    "        a=[re.sub(r'=\\s*\\{res\\}\\s*(\\d*\\.?\\d*e?\\+?\\d*)\\s*\\{txt\\}',r'= ,\\1,',x) for x in a] \n",
    "        a=[re.sub(r'=\\s*\\{res\\}',r'= ,',x) for x in a] \n",
    "        a=[re.sub(r'0\\.0000?',r'<0.001',x) for x in a] \n",
    "        a=[re.sub(r'Pr = \\{res\\}',r'Pr = ,',x) for x in a] \n",
    "        a=[re.sub(r'\\s+(\\{txt\\})',r'\\1',x) for x in a] \n",
    "        a=[re.sub(r'\\s+(diff\\s)\\{c\\s\\|\\}\\{res\\}\\{col\\s22\\}\\s?(-?\\d*\\.?\\d*)\\s?\\{col\\s34\\}\\s?(-?\\d*\\.?\\d*)\\s?\\{col\\s58\\}\\s?(-?\\d*\\.?\\d*)\\s?\\{col\\s70\\}\\s?(-?\\d*\\.?\\d*).*',r'\\1__changeherelater3__\\2\\,\\3__changeherelater3__\\4\\,\\5',x) for x in a]                 \n",
    "        a=[re.sub(r'\\s+(Total \\{c \\|\\}\\{res\\})',r'\\1',x) for x in a]\n",
    "        a=[re.sub(r'\\s+(\\d+ \\{c \\|\\}\\{res\\})',r'\\1',x) for x in a]\n",
    "        a=[re.sub(r'(\\{txt\\})\\s+(\\d+ \\{c \\|\\})',r'\\1\\2',x) for x in a]\n",
    "        a=[re.sub(r'\\. di.*',r'',x) for x in a]\n",
    "        a=[x.replace('{smcl}\\n','') for x in a]\n",
    "        a=[x.replace('{com}.','') for x in a]\n",
    "        a=[x.replace('{com}','') for x in a]\n",
    "        a=[x.replace('{text}','') for x in a]\n",
    "        a=[x.replace('{sf}','') for x in a]\n",
    "        a=[x.replace('{ul off}','') for x in a]\n",
    "        a=[x.replace('{txt}','') for x in a]\n",
    "        a=[x.replace('{.-}','') for x in a]\n",
    "        a=[x.replace('{res}','') for x in a]\n",
    "        a=[x.replace('{c TLC}','') for x in a]\n",
    "        a=[x.replace('{c TRC}','') for x in a]\n",
    "        a=[x.replace('{c BLC}','') for x in a]\n",
    "        a=[x.replace('{c BRC}','') for x in a]\n",
    "        a=[x.replace('{c LT}','') for x in a]\n",
    "        a=[x.replace('{c RT}','') for x in a]\n",
    "        a=[x.replace('{c +}','') for x in a]\n",
    "        a=[x.replace('{c TT}','') for x in a]\n",
    "        a=[x.replace('{c BT}','') for x in a]\n",
    "    \n",
    "        print(\"1/10\")\n",
    "        a=[re.sub(r'\\{hline\\s+([0-9]+)\\}', lambda m: ('-' * int(m.group(1))+','), x) for x in a]\n",
    "\n",
    "        print(\"2/10\")\n",
    "        a=[re.sub(r'\\{it:(.*?)\\}',r'\\1',x) for x in a]\n",
    "        a=[re.sub(r'(\\d+-?)\\s{2,}(\\d+)',r'\\1,\\2',x) for x in a]\n",
    "        a=[re.sub(r'\\s{2,}((?:\\S+\\s?\\S*)+)',r',\\1',x) for x in a]\n",
    "        #a=[re.sub(r'\\s{2,}',r'\\t',x) for x in a]\n",
    "\n",
    "        print(\"8/10\")\n",
    "        a=[x.replace('{hline}','-----------------------------------------------------------') for x in a]\n",
    "        a=[re.sub(r'\\A\\s+(\\S*)\\s+\\{c\\s\\|\\}',r'\\1,',x) for x in a]\n",
    "        a=[re.sub(r'\\A\\{c\\s\\|\\}',r'',x) for x in a]\n",
    "        a=[re.sub(r'\\{c\\s\\|\\}\\Z',r'',x) for x in a]\n",
    "        a=[re.sub(r'\\{c\\s\\|\\}',r'',x) for x in a]\n",
    "        a=[re.sub(r'\\{c\\s-\\}',r',-,',x) for x in a]\n",
    "        a=[re.sub(r'(\\d+.?\\d*)\\s\\((\\d+.?\\s?\\d*%?)\\)',r'\\1,\\2',x) for x in a]\n",
    "        a=[re.sub(r'\\A\\t\\t\\|',r'',x) for x in a]\n",
    "        a=[re.sub(r'\\A\\{space.*?\\}',r'',x) for x in a]\n",
    "        a=[re.sub(r'\\{space.*?\\}',r',',x) for x in a]\n",
    "        a=[re.sub(r'\\A\\{col\\s?1\\}\\s+',r'', x) for x in a]\n",
    "        a=[re.sub(r'\\{col\\s?([0-9]+)\\}', lambda m: ' ' * int(m.group(1)), x) for x in a]\n",
    "\n",
    "        a=[re.sub(r'(\\.?\\d*\\.?\\d*)\\s\\((\\.?\\d*\\.?\\s?\\d*%?)\\)',r'\\1,\\2',x) for x in a]\n",
    "\n",
    "        a=[re.sub(r'\\s{2,}((?:\\S+\\s?\\S*)+)',r',\\1',x) for x in a]\n",
    "        #print(a)\n",
    "        a=[x.replace('__changeherelater__','combined') for x in a]\n",
    "        a=[x.replace('__changeherelater2__','') for x in a]\n",
    "        a=[x.replace('\\t\\t','\\t') for x in a]\n",
    "        a=[x.replace('__changeherelater3__',',,') for x in a]\n",
    "        \n",
    "        #print(a)\n",
    "        print(\"9/10\")\n",
    "        n=len(a)\n",
    "\n",
    "        #for i in range(n):\n",
    "        #    print((a[i]))\n",
    "        print(\"10/10\")\n",
    "#            f = open(path + '{0}.txt'.format(filename),'w')\n",
    "        f = open(path + '{0}.csv'.format(filename),'w',encoding='shift_jis')\n",
    "#        f = open(path + '{0}.xls'.format(filename),'w',encoding='shift_jis')\n",
    "        for i in range(n):\n",
    "            f.write((a[i]))\n",
    "\n",
    "        f.close()"
   ]
  },
  {
   "cell_type": "code",
   "execution_count": null,
   "metadata": {},
   "outputs": [],
   "source": []
  },
  {
   "cell_type": "code",
   "execution_count": null,
   "metadata": {},
   "outputs": [],
   "source": []
  },
  {
   "cell_type": "code",
   "execution_count": 2,
   "metadata": {},
   "outputs": [
    {
     "name": "stdout",
     "output_type": "stream",
     "text": [
      "/Users/pineapple/Desktop/ikawa/ikawa.smcll\n",
      "/Users/pineapple/Desktop/ikawa/\n",
      "['ikawa.smcll']\n",
      "---\n",
      "['ikawa']\n",
      "0/10\n",
      "1/10\n",
      "2/10\n",
      "8/10\n",
      "9/10\n",
      "10/10\n"
     ]
    }
   ],
   "source": [
    "#!/usr/bin/env python\n",
    "# newest decoder 2018-11-13 for both Win & OSX\n",
    "import re\n",
    "\n",
    "text='''/Users/pineapple/Desktop/ikawa/ikawa.smcll'''\n",
    "\n",
    "print(text)\n",
    "text=text.split(\"\\n\")\n",
    "path=re.sub(r'\\\\(\\S+)',r'//\\1',text[0])\n",
    "path=re.sub(r'\\\\(\\S+)',r'//\\1',path)\n",
    "path=re.sub(r'\\\\',r'/',path)\n",
    "#path=re.sub(r'(.*)',r'\\1/',path)\n",
    "path=re.sub(r'(\\A.*/).+\\Z',r'\\1',path)\n",
    "print(path)\n",
    "text=[re.sub(r'\\A.*/(.+\\Z)',r'\\1',x) for x in text]\n",
    "print(text)\n",
    "print(\"---\")\n",
    "\n",
    "'''\n",
    "print(text)\n",
    "text=text.split(\"\\n\")\n",
    "#text=text[1:-1]\n",
    "path=text[0].split('\"')\n",
    "path=path[1]\n",
    "path=re.sub(r'\\\\(\\S+)',r'//\\1',path)\n",
    "path=re.sub(r'\\\\',r'/',path)\n",
    "path=re.sub(r'(.*)',r'\\1/',path)\n",
    "print(path)\n",
    "'''\n",
    "\n",
    "\n",
    "#text=text[1:]\n",
    "filenames=[]\n",
    "for i in range(len(text)):\n",
    "    filenames.append(text[0].split(\".smcl\")[0])\n",
    "    text=text[1:]\n",
    "print(filenames)\n",
    "\n",
    "for filename in filenames:\n",
    "\n",
    "    if filename==\"\":\n",
    "        break\n",
    "    else:\n",
    "        f = open(path + '{0}.smcl'.format(filename), 'r' ,encoding=\"utf_8\")\n",
    "        print(\"0/10\")\n",
    "        a=[]\n",
    "        for line in f:\n",
    "            a.append(line)\n",
    "        f.close()\n",
    "       \n",
    "        a=[x.replace('combined {c |}{res}','__changeherelater__') for x in a]\n",
    "        a=[x.replace('{txt}{c |}{res}','__changeherelater2__') for x in a]\n",
    "        a=[re.sub(r'(Factor\\s{3,}Level\\s{3,}0)\\s{3,}(1)\\s{3,}(p-value)',r'\\1__changeherelater3__\\2__changeherelater3__\\3',x) for x in a]\n",
    "        a=[re.sub(r'(N)\\s{3,}(\\d+)\\s{3,}(\\d+)',r'\\1__changeherelater3__\\2__changeherelater3__\\3',x) for x in a]\n",
    "        a=[re.sub(r'(\\S+,\\smean\\s\\(SD\\))\\s{3,}(\\d+)',r'\\1__changeherelater3__\\2',x) for x in a]\n",
    "        a=[re.sub(r'(\\A\\{res\\}\\{txt\\})\\s\\s(\\{c\\sTLC\\}\\{hline\\s16\\})',r'\\1\\2',x) for x in a]\n",
    "        a=[re.sub(r'\\A\\s\\s(\\{c\\s)',r'\\1',x) for x in a]\n",
    "        \n",
    "        a=[re.sub(r'\\s+(name:\\s\\s\\{res\\})',r'\\1',x) for x in a]  \n",
    "        a=[re.sub(r'\\s+(Group)',r'\\1',x) for x in a] \n",
    "        a=[re.sub(r'\\s+({txt}log)',r'\\1',x) for x in a] \n",
    "        a=[re.sub(r'\\s+({txt}opened on:)',r'\\1',x) for x in a] \n",
    "        #a=[re.sub(r'Pr =\\s\\{res\\}0\\.000',r'Pr = \\t<0.001',x) for x in a] \n",
    "        a=[re.sub(r'=\\s*\\{res\\}\\s*(\\d*\\.?\\d*e?\\+?\\d*)\\s*\\{txt\\}',r'= \\t\\1\\t',x) for x in a] \n",
    "        a=[re.sub(r'=\\s*\\{res\\}',r'= \\t',x) for x in a] \n",
    "        a=[re.sub(r'0\\.0000?',r'<0.001',x) for x in a] \n",
    "        a=[re.sub(r'Pr = \\{res\\}',r'Pr = \\t',x) for x in a] \n",
    "        a=[re.sub(r'\\s+(\\{txt\\})',r'\\1',x) for x in a] \n",
    "        a=[re.sub(r'\\s+(diff\\s)\\{c\\s\\|\\}\\{res\\}\\{col\\s22\\}\\s?(-?\\d*\\.?\\d*)\\s?\\{col\\s34\\}\\s?(-?\\d*\\.?\\d*)\\s?\\{col\\s58\\}\\s?(-?\\d*\\.?\\d*)\\s?\\{col\\s70\\}\\s?(-?\\d*\\.?\\d*).*',r'\\1__changeherelater3__\\2\\t\\3__changeherelater3__\\4\\t\\5',x) for x in a]                 \n",
    "        a=[re.sub(r'\\s+(Total \\{c \\|\\}\\{res\\})',r'\\1',x) for x in a]\n",
    "        a=[re.sub(r'\\s+(\\d+ \\{c \\|\\}\\{res\\})',r'\\1',x) for x in a]\n",
    "        a=[re.sub(r'(\\{txt\\})\\s+(\\d+ \\{c \\|\\})',r'\\1\\2',x) for x in a]\n",
    "        a=[re.sub(r'\\. di.*',r'',x) for x in a]\n",
    "        a=[x.replace('{smcl}\\n','') for x in a]\n",
    "        a=[x.replace('{com}.','') for x in a]\n",
    "        a=[x.replace('{com}','') for x in a]\n",
    "        a=[x.replace('{text}','') for x in a]\n",
    "        a=[x.replace('{sf}','') for x in a]\n",
    "        a=[x.replace('{ul off}','') for x in a]\n",
    "        a=[x.replace('{txt}','') for x in a]\n",
    "        a=[x.replace('{.-}','') for x in a]\n",
    "        a=[x.replace('{res}','') for x in a]\n",
    "        a=[x.replace('{c TLC}','') for x in a]\n",
    "        a=[x.replace('{c TRC}','') for x in a]\n",
    "        a=[x.replace('{c BLC}','') for x in a]\n",
    "        a=[x.replace('{c BRC}','') for x in a]\n",
    "        a=[x.replace('{c LT}','') for x in a]\n",
    "        a=[x.replace('{c RT}','') for x in a]\n",
    "        a=[x.replace('{c +}','') for x in a]\n",
    "        a=[x.replace('{c TT}','') for x in a]\n",
    "        a=[x.replace('{c BT}','') for x in a]\n",
    "    \n",
    "        print(\"1/10\")\n",
    "        a=[re.sub(r'\\{hline\\s+([0-9]+)\\}', lambda m: ('-' * int(m.group(1))+'\\t'), x) for x in a]\n",
    "\n",
    "        print(\"2/10\")\n",
    "        a=[re.sub(r'\\{it:(.*?)\\}',r'\\1',x) for x in a]\n",
    "        a=[re.sub(r'(\\d+-?)\\s{2,}(\\d+)',r'\\1\\t\\2',x) for x in a]\n",
    "        a=[re.sub(r'\\s{2,}((?:\\S+\\s?\\S*)+)',r'\\t\\1',x) for x in a]\n",
    "        #a=[re.sub(r'\\s{2,}',r'\\t',x) for x in a]\n",
    "\n",
    "        print(\"8/10\")\n",
    "        a=[x.replace('{hline}','-----------------------------------------------------------') for x in a]\n",
    "        a=[re.sub(r'\\A\\s+(\\S*)\\s+\\{c\\s\\|\\}',r'\\1\\t',x) for x in a]\n",
    "        a=[re.sub(r'\\A\\{c\\s\\|\\}',r'',x) for x in a]\n",
    "        a=[re.sub(r'\\{c\\s\\|\\}\\Z',r'',x) for x in a]\n",
    "        a=[re.sub(r'\\{c\\s\\|\\}',r'',x) for x in a]\n",
    "        a=[re.sub(r'\\{c\\s-\\}',r'\\t-\\t',x) for x in a]\n",
    "        a=[re.sub(r'(\\d+.?\\d*)\\s\\((\\d+.?\\s?\\d*%?)\\)',r'\\1\\t\\2',x) for x in a]\n",
    "        a=[re.sub(r'\\A\\t\\t\\|',r'',x) for x in a]\n",
    "        a=[re.sub(r'\\A\\{space.*?\\}',r'',x) for x in a]\n",
    "        a=[re.sub(r'\\{space.*?\\}',r'\\t',x) for x in a]\n",
    "        a=[re.sub(r'\\A\\{col\\s?1\\}\\s+',r'', x) for x in a]\n",
    "        a=[re.sub(r'\\{col\\s?([0-9]+)\\}', lambda m: ' ' * int(m.group(1)), x) for x in a]\n",
    "\n",
    "        a=[re.sub(r'(\\.?\\d*\\.?\\d*)\\s\\((\\.?\\d*\\.?\\s?\\d*%?)\\)',r'\\1\\t\\2',x) for x in a]\n",
    "\n",
    "        a=[re.sub(r'\\s{2,}((?:\\S+\\s?\\S*)+)',r'\\t\\1',x) for x in a]\n",
    "        #print(a)\n",
    "        a=[x.replace('__changeherelater__','combined') for x in a]\n",
    "        a=[x.replace('__changeherelater2__','') for x in a]\n",
    "        a=[x.replace('\\t\\t','\\t') for x in a]\n",
    "        a=[x.replace('__changeherelater3__','\\t\\t') for x in a]\n",
    "        \n",
    "        #print(a)\n",
    "        print(\"9/10\")\n",
    "        n=len(a)\n",
    "\n",
    "        #for i in range(n):\n",
    "        #    print((a[i]))\n",
    "        print(\"10/10\")\n",
    "#            f = open(path + '{0}.txt'.format(filename),'w')\n",
    "#            f = open(path + '{0}.csv'.format(filename),'w',encoding='shift_jis')\n",
    "        f = open(path + '{0}.xls'.format(filename),'w',encoding='shift_jis')\n",
    "        for i in range(n):\n",
    "            f.write((a[i]))\n",
    "\n",
    "        f.close()"
   ]
  },
  {
   "cell_type": "code",
   "execution_count": null,
   "metadata": {},
   "outputs": [],
   "source": []
  },
  {
   "cell_type": "code",
   "execution_count": null,
   "metadata": {},
   "outputs": [],
   "source": []
  },
  {
   "cell_type": "code",
   "execution_count": null,
   "metadata": {},
   "outputs": [],
   "source": []
  },
  {
   "cell_type": "code",
   "execution_count": 2,
   "metadata": {},
   "outputs": [
    {
     "name": "stdout",
     "output_type": "stream",
     "text": [
      "/Users/pineapple/Desktop/nptrendresults.smcl\n"
     ]
    },
    {
     "ename": "IndexError",
     "evalue": "list index out of range",
     "output_type": "error",
     "traceback": [
      "\u001b[0;31m---------------------------------------------------------------------------\u001b[0m",
      "\u001b[0;31mIndexError\u001b[0m                                Traceback (most recent call last)",
      "\u001b[0;32m<ipython-input-2-f0072f222cbc>\u001b[0m in \u001b[0;36m<module>\u001b[0;34m\u001b[0m\n\u001b[1;32m      9\u001b[0m \u001b[0;31m#text=text[1:-1]\u001b[0m\u001b[0;34m\u001b[0m\u001b[0;34m\u001b[0m\u001b[0;34m\u001b[0m\u001b[0m\n\u001b[1;32m     10\u001b[0m \u001b[0mpath\u001b[0m\u001b[0;34m=\u001b[0m\u001b[0mtext\u001b[0m\u001b[0;34m[\u001b[0m\u001b[0;36m0\u001b[0m\u001b[0;34m]\u001b[0m\u001b[0;34m.\u001b[0m\u001b[0msplit\u001b[0m\u001b[0;34m(\u001b[0m\u001b[0;34m'\"'\u001b[0m\u001b[0;34m)\u001b[0m\u001b[0;34m\u001b[0m\u001b[0;34m\u001b[0m\u001b[0m\n\u001b[0;32m---> 11\u001b[0;31m \u001b[0mpath\u001b[0m\u001b[0;34m=\u001b[0m\u001b[0mpath\u001b[0m\u001b[0;34m[\u001b[0m\u001b[0;36m1\u001b[0m\u001b[0;34m]\u001b[0m\u001b[0;34m\u001b[0m\u001b[0;34m\u001b[0m\u001b[0m\n\u001b[0m\u001b[1;32m     12\u001b[0m \u001b[0mprint\u001b[0m\u001b[0;34m(\u001b[0m\u001b[0mpath\u001b[0m\u001b[0;34m)\u001b[0m\u001b[0;34m\u001b[0m\u001b[0;34m\u001b[0m\u001b[0m\n\u001b[1;32m     13\u001b[0m \u001b[0;34m\u001b[0m\u001b[0m\n",
      "\u001b[0;31mIndexError\u001b[0m: list index out of range"
     ]
    }
   ],
   "source": [
    "#!/usr/bin/env python\n",
    "# newest decoder 2018-11-13\n",
    "import re\n",
    "\n",
    "text='''/Users/pineapple/Desktop/nptrendresults.smcl'''\n",
    "\n",
    "print(text)\n",
    "text=text.split(\"\\n\")\n",
    "#text=text[1:-1]\n",
    "path=text[0].split('\"')\n",
    "path=path[1]\n",
    "print(path)\n",
    "\n",
    "\n",
    "text=text[1:]\n",
    "filenames=[]\n",
    "for i in range(len(text)):\n",
    "    filenames.append(text[0].split(\".smcl\")[0])\n",
    "    text=text[1:]\n",
    "print(filenames)\n",
    "\n",
    "for filename in filenames:\n",
    "\n",
    "    if filename==\"\":\n",
    "        break\n",
    "    else:\n",
    "        f = open(path + '{0}.smcl'.format(filename), 'r' ,encoding=\"utf_8\")\n",
    "        print(\"0/10\")\n",
    "        a=[]\n",
    "        for line in f:\n",
    "            a.append(line)\n",
    "        f.close()\n",
    "       \n",
    "        a=[x.replace('combined {c |}{res}','__changeherelater__') for x in a]\n",
    "        a=[x.replace('{txt}{c |}{res}','__changeherelater2__') for x in a]\n",
    "        a=[re.sub(r'(Factor\\s{3,}Level\\s{3,}0)\\s{3,}(1)\\s{3,}(p-value)',r'\\1__changeherelater3__\\2__changeherelater3__\\3',x) for x in a]\n",
    "        a=[re.sub(r'(N)\\s{3,}(\\d+)\\s{3,}(\\d+)',r'\\1__changeherelater3__\\2__changeherelater3__\\3',x) for x in a]\n",
    "        a=[re.sub(r'(\\S+,\\smean\\s\\(SD\\))\\s{3,}(\\d+)',r'\\1__changeherelater3__\\2',x) for x in a]\n",
    "        a=[re.sub(r'(\\A\\{res\\}\\{txt\\})\\s\\s(\\{c\\sTLC\\}\\{hline\\s16\\})',r'\\1\\2',x) for x in a]\n",
    "        a=[re.sub(r'\\A\\s\\s(\\{c\\s)',r'\\1',x) for x in a]\n",
    "           \n",
    "        a=[re.sub(r'\\s+(name:\\s\\s\\{res\\})',r'\\1',x) for x in a]  \n",
    "        a=[re.sub(r'\\s+(Group)',r'\\1',x) for x in a] \n",
    "        a=[re.sub(r'\\s+({txt}log)',r'\\1',x) for x in a] \n",
    "        a=[re.sub(r'\\s+({txt}opened on:)',r'\\1',x) for x in a] \n",
    "        #a=[re.sub(r'Pr =\\s\\{res\\}0\\.000',r'Pr = \\t<0.001',x) for x in a] \n",
    "        a=[re.sub(r'=\\s*\\{res\\}\\s*(\\d*\\.?\\d*e?\\+?\\d*)\\s*\\{txt\\}',r'= \\t\\1\\t',x) for x in a] \n",
    "        a=[re.sub(r'=\\s*\\{res\\}',r'= \\t',x) for x in a] \n",
    "        a=[re.sub(r'0\\.0000?',r'<0.001',x) for x in a] \n",
    "        a=[re.sub(r'Pr = \\{res\\}',r'Pr = \\t',x) for x in a] \n",
    "        a=[re.sub(r'\\s+(\\{txt\\})',r'\\1',x) for x in a] \n",
    "        a=[re.sub(r'\\s+(diff\\s)\\{c\\s\\|\\}\\{res\\}\\{col\\s22\\}\\s?(-?\\d*\\.?\\d*)\\s?\\{col\\s34\\}\\s?(-?\\d*\\.?\\d*)\\s?\\{col\\s58\\}\\s?(-?\\d*\\.?\\d*)\\s?\\{col\\s70\\}\\s?(-?\\d*\\.?\\d*).*',r'\\1__changeherelater3__\\2\\t\\3__changeherelater3__\\4\\t\\5',x) for x in a]                 \n",
    "        a=[re.sub(r'\\s+(Total \\{c \\|\\}\\{res\\})',r'\\1',x) for x in a]\n",
    "        a=[re.sub(r'\\s+(\\d+ \\{c \\|\\}\\{res\\})',r'\\1',x) for x in a]\n",
    "        a=[re.sub(r'(\\{txt\\})\\s+(\\d+ \\{c \\|\\})',r'\\1\\2',x) for x in a]\n",
    "        a=[re.sub(r'\\. di.*',r'',x) for x in a]\n",
    "        a=[x.replace('{smcl}\\n','') for x in a]\n",
    "        a=[x.replace('{com}.','') for x in a]\n",
    "        a=[x.replace('{com}','') for x in a]\n",
    "        a=[x.replace('{text}','') for x in a]\n",
    "        a=[x.replace('{sf}','') for x in a]\n",
    "        a=[x.replace('{ul off}','') for x in a]\n",
    "        a=[x.replace('{txt}','') for x in a]\n",
    "        a=[x.replace('{.-}','') for x in a]\n",
    "        a=[x.replace('{res}','') for x in a]\n",
    "        a=[x.replace('{c TLC}','') for x in a]\n",
    "        a=[x.replace('{c TRC}','') for x in a]\n",
    "        a=[x.replace('{c BLC}','') for x in a]\n",
    "        a=[x.replace('{c BRC}','') for x in a]\n",
    "        a=[x.replace('{c LT}','') for x in a]\n",
    "        a=[x.replace('{c RT}','') for x in a]\n",
    "        a=[x.replace('{c +}','') for x in a]\n",
    "        a=[x.replace('{c TT}','') for x in a]\n",
    "        a=[x.replace('{c BT}','') for x in a]\n",
    "    \n",
    "        print(\"1/10\")\n",
    "        a=[re.sub(r'\\{hline\\s+([0-9]+)\\}', lambda m: ('-' * int(m.group(1))+'\\t'), x) for x in a]\n",
    "\n",
    "        print(\"2/10\")\n",
    "        a=[re.sub(r'\\{it:(.*?)\\}',r'\\1',x) for x in a]\n",
    "        a=[re.sub(r'(\\d+-?)\\s{2,}(\\d+)',r'\\1\\t\\2',x) for x in a]\n",
    "        a=[re.sub(r'\\s{2,}((?:\\S+\\s?\\S*)+)',r'\\t\\1',x) for x in a]\n",
    "        #a=[re.sub(r'\\s{2,}',r'\\t',x) for x in a]\n",
    "\n",
    "        print(\"8/10\")\n",
    "        a=[x.replace('{hline}','-----------------------------------------------------------') for x in a]\n",
    "        a=[re.sub(r'\\A\\s+(\\S*)\\s+\\{c\\s\\|\\}',r'\\1\\t',x) for x in a]\n",
    "        a=[re.sub(r'\\A\\{c\\s\\|\\}',r'',x) for x in a]\n",
    "        a=[re.sub(r'\\{c\\s\\|\\}\\Z',r'',x) for x in a]\n",
    "        a=[re.sub(r'\\{c\\s\\|\\}',r'',x) for x in a]\n",
    "        a=[re.sub(r'\\{c\\s-\\}',r'\\t-\\t',x) for x in a]\n",
    "        a=[re.sub(r'(\\d+.?\\d*)\\s\\((\\d+.?\\s?\\d*%?)\\)',r'\\1\\t\\2',x) for x in a]\n",
    "        a=[re.sub(r'\\A\\t\\t\\|',r'',x) for x in a]\n",
    "        a=[re.sub(r'\\A\\{space.*?\\}',r'',x) for x in a]\n",
    "        a=[re.sub(r'\\{space.*?\\}',r'\\t',x) for x in a]\n",
    "        a=[re.sub(r'\\A\\{col\\s?1\\}\\s+',r'', x) for x in a]\n",
    "        a=[re.sub(r'\\{col\\s?([0-9]+)\\}', lambda m: ' ' * int(m.group(1)), x) for x in a]\n",
    "\n",
    "        a=[re.sub(r'(\\.?\\d*\\.?\\d*)\\s\\((\\.?\\d*\\.?\\s?\\d*%?)\\)',r'\\1\\t\\2',x) for x in a]\n",
    "\n",
    "        a=[re.sub(r'\\s{2,}((?:\\S+\\s?\\S*)+)',r'\\t\\1',x) for x in a]\n",
    "        #print(a)\n",
    "        a=[x.replace('__changeherelater__','combined') for x in a]\n",
    "        a=[x.replace('__changeherelater2__','') for x in a]\n",
    "        a=[x.replace('\\t\\t','\\t') for x in a]\n",
    "        a=[x.replace('__changeherelater3__','\\t\\t') for x in a]\n",
    "        \n",
    "        #print(a)\n",
    "        print(\"9/10\")\n",
    "        n=len(a)\n",
    "\n",
    "        #for i in range(n):\n",
    "        #    print((a[i]))\n",
    "        print(\"10/10\")\n",
    "        f = open(path + '{0}.txt'.format(filename),'w')\n",
    "        for i in range(n):\n",
    "            f.write((a[i]))\n",
    "\n",
    "        f.close()"
   ]
  },
  {
   "cell_type": "code",
   "execution_count": null,
   "metadata": {},
   "outputs": [],
   "source": []
  },
  {
   "cell_type": "code",
   "execution_count": 14,
   "metadata": {},
   "outputs": [
    {
     "name": "stdout",
     "output_type": "stream",
     "text": [
      "['   mrsbad2 {c |}         1          2          3          4 {c |}     Total']\n",
      "['mrsbad2\\t         1          2          3          4 {c |}     Total']\n"
     ]
    }
   ],
   "source": [
    "import re\n",
    "a=['   mrsbad2 {c |}         1          2          3          4 {c |}     Total']\n",
    "print(a)\n",
    "a=[re.sub(r'\\A\\s+(\\S*)\\s+\\{c\\s\\|\\}',r'\\1\\t',x) for x in a]\n",
    "print(a)"
   ]
  },
  {
   "cell_type": "code",
   "execution_count": 23,
   "metadata": {},
   "outputs": [
    {
     "name": "stdout",
     "output_type": "stream",
     "text": [
      "['   mrsbad2 {c |}      .75-      10.2-     17.65-  26.83333- {c |}     Total']\n",
      "['mrsbad2\\t.75-\\t10.2-\\t17.65-\\t26.83333- {c |}\\tTotal']\n"
     ]
    }
   ],
   "source": [
    "import re\n",
    "a=['   mrsbad2 {c |}      .75-      10.2-     17.65-  26.83333- {c |}     Total']\n",
    "print(a)\n",
    "a=[re.sub(r'\\A\\s+(\\S*)\\s+\\{c\\s\\|\\}',r'\\1\\t',x) for x in a]\n",
    "a=[re.sub(r'\\s{2,}',r'\\t',x) for x in a]\n",
    "print(a)"
   ]
  },
  {
   "cell_type": "code",
   "execution_count": null,
   "metadata": {},
   "outputs": [],
   "source": []
  },
  {
   "cell_type": "code",
   "execution_count": 7,
   "metadata": {},
   "outputs": [
    {
     "name": "stdout",
     "output_type": "stream",
     "text": [
      "Factor\t\t\tLevel\n"
     ]
    }
   ],
   "source": [
    "a=re.sub(r'(Factor)\\s{2}(Level)',r'\\1 \\2',\"Factor\t\t\tLevel\")\n",
    "print(a)"
   ]
  },
  {
   "cell_type": "code",
   "execution_count": 43,
   "metadata": {},
   "outputs": [
    {
     "name": "stdout",
     "output_type": "stream",
     "text": [
      "cd \"\\Mac\\Home\\Downloads\"\n",
      "Yasui20180504\n",
      "//Mac\\Home\\Downloads\n"
     ]
    }
   ],
   "source": [
    "import re\n",
    "text='''cd \"\\\\Mac\\Home\\Downloads\\\"\n",
    "Yasui20180504'''\n",
    "\n",
    "print(text)\n",
    "text=text.split(\"\\n\")\n",
    "#text=text[1:-1]\n",
    "path=text[0].split('\"')\n",
    "path=path[1]\n",
    "path=re.sub(r'\\\\(\\S+)',r'//\\1',path)\n",
    "print(path)"
   ]
  },
  {
   "cell_type": "code",
   "execution_count": null,
   "metadata": {},
   "outputs": [],
   "source": []
  },
  {
   "cell_type": "code",
   "execution_count": 45,
   "metadata": {},
   "outputs": [
    {
     "name": "stdout",
     "output_type": "stream",
     "text": [
      "cd \"/Users/pineapple/Downloads/\"\n",
      "Yasui20180504\n",
      "/Users/pineapple/Downloads///\n",
      "['Yasui20180504']\n",
      "0/10\n",
      "1/10\n",
      "2/10\n",
      "8/10\n",
      "9/10\n",
      "10/10\n"
     ]
    }
   ],
   "source": [
    "#!/usr/bin/env python\n",
    "# newest decoder 2018-11-13\n",
    "import re\n",
    "\n",
    "text='''cd \"/Users/pineapple/Downloads/\"\n",
    "Yasui20180504'''\n",
    "\n",
    "print(text)\n",
    "text=text.split(\"\\n\")\n",
    "#text=text[1:-1]\n",
    "path=text[0].split('\"')\n",
    "path=path[1]\n",
    "path=re.sub(r'\\\\(\\S+)',r'//\\1',path)\n",
    "path=re.sub(r'\\\\',r'/',path)\n",
    "path=re.sub(r'(.*)',r'\\1/',path)\n",
    "print(path)\n",
    "\n",
    "\n",
    "text=text[1:]\n",
    "filenames=[]\n",
    "for i in range(len(text)):\n",
    "    filenames.append(text[0].split(\".smcl\")[0])\n",
    "    text=text[1:]\n",
    "print(filenames)\n",
    "\n",
    "for filename in filenames:\n",
    "\n",
    "    if filename==\"\":\n",
    "        break\n",
    "    else:\n",
    "        f = open(path + '{0}.smcl'.format(filename), 'r' ,encoding=\"utf_8\")\n",
    "        print(\"0/10\")\n",
    "        a=[]\n",
    "        for line in f:\n",
    "            a.append(line)\n",
    "        f.close()\n",
    "       \n",
    "        a=[x.replace('combined {c |}{res}','__changeherelater__') for x in a]\n",
    "        a=[x.replace('{txt}{c |}{res}','__changeherelater2__') for x in a]\n",
    "        a=[re.sub(r'(Factor\\s{3,}Level\\s{3,}0)\\s{3,}(1)\\s{3,}(p-value)',r'\\1__changeherelater3__\\2__changeherelater3__\\3',x) for x in a]\n",
    "        a=[re.sub(r'(N)\\s{3,}(\\d+)\\s{3,}(\\d+)',r'\\1__changeherelater3__\\2__changeherelater3__\\3',x) for x in a]\n",
    "        a=[re.sub(r'(\\S+,\\smean\\s\\(SD\\))\\s{3,}(\\d+)',r'\\1__changeherelater3__\\2',x) for x in a]\n",
    "        a=[re.sub(r'(\\A\\{res\\}\\{txt\\})\\s\\s(\\{c\\sTLC\\}\\{hline\\s16\\})',r'\\1\\2',x) for x in a]\n",
    "        a=[re.sub(r'\\A\\s\\s(\\{c\\s)',r'\\1',x) for x in a]\n",
    "           \n",
    "        a=[re.sub(r'\\s+(name:\\s\\s\\{res\\})',r'\\1',x) for x in a]  \n",
    "        a=[re.sub(r'\\s+(Group)',r'\\1',x) for x in a] \n",
    "        a=[re.sub(r'\\s+({txt}log)',r'\\1',x) for x in a] \n",
    "        a=[re.sub(r'\\s+({txt}opened on:)',r'\\1',x) for x in a] \n",
    "        #a=[re.sub(r'Pr =\\s\\{res\\}0\\.000',r'Pr = \\t<0.001',x) for x in a] \n",
    "        a=[re.sub(r'=\\s*\\{res\\}\\s*(\\d*\\.?\\d*e?\\+?\\d*)\\s*\\{txt\\}',r'= \\t\\1\\t',x) for x in a] \n",
    "        a=[re.sub(r'=\\s*\\{res\\}',r'= \\t',x) for x in a] \n",
    "        a=[re.sub(r'0\\.0000?',r'<0.001',x) for x in a] \n",
    "        a=[re.sub(r'Pr = \\{res\\}',r'Pr = \\t',x) for x in a] \n",
    "        a=[re.sub(r'\\s+(\\{txt\\})',r'\\1',x) for x in a] \n",
    "        a=[re.sub(r'\\s+(diff\\s)\\{c\\s\\|\\}\\{res\\}\\{col\\s22\\}\\s?(-?\\d*\\.?\\d*)\\s?\\{col\\s34\\}\\s?(-?\\d*\\.?\\d*)\\s?\\{col\\s58\\}\\s?(-?\\d*\\.?\\d*)\\s?\\{col\\s70\\}\\s?(-?\\d*\\.?\\d*).*',r'\\1__changeherelater3__\\2\\t\\3__changeherelater3__\\4\\t\\5',x) for x in a]                 \n",
    "        a=[re.sub(r'\\s+(Total \\{c \\|\\}\\{res\\})',r'\\1',x) for x in a]\n",
    "        a=[re.sub(r'\\s+(\\d+ \\{c \\|\\}\\{res\\})',r'\\1',x) for x in a]\n",
    "        a=[re.sub(r'(\\{txt\\})\\s+(\\d+ \\{c \\|\\})',r'\\1\\2',x) for x in a]\n",
    "        a=[re.sub(r'\\. di.*',r'',x) for x in a]\n",
    "        a=[x.replace('{smcl}\\n','') for x in a]\n",
    "        a=[x.replace('{com}.','') for x in a]\n",
    "        a=[x.replace('{com}','') for x in a]\n",
    "        a=[x.replace('{text}','') for x in a]\n",
    "        a=[x.replace('{sf}','') for x in a]\n",
    "        a=[x.replace('{ul off}','') for x in a]\n",
    "        a=[x.replace('{txt}','') for x in a]\n",
    "        a=[x.replace('{.-}','') for x in a]\n",
    "        a=[x.replace('{res}','') for x in a]\n",
    "        a=[x.replace('{c TLC}','') for x in a]\n",
    "        a=[x.replace('{c TRC}','') for x in a]\n",
    "        a=[x.replace('{c BLC}','') for x in a]\n",
    "        a=[x.replace('{c BRC}','') for x in a]\n",
    "        a=[x.replace('{c LT}','') for x in a]\n",
    "        a=[x.replace('{c RT}','') for x in a]\n",
    "        a=[x.replace('{c +}','') for x in a]\n",
    "        a=[x.replace('{c TT}','') for x in a]\n",
    "        a=[x.replace('{c BT}','') for x in a]\n",
    "    \n",
    "        print(\"1/10\")\n",
    "        a=[re.sub(r'\\{hline\\s+([0-9]+)\\}', lambda m: ('-' * int(m.group(1))+'\\t'), x) for x in a]\n",
    "\n",
    "        print(\"2/10\")\n",
    "        a=[re.sub(r'\\{it:(.*?)\\}',r'\\1',x) for x in a]\n",
    "        a=[re.sub(r'(\\d+-?)\\s{2,}(\\d+)',r'\\1\\t\\2',x) for x in a]\n",
    "        a=[re.sub(r'\\s{2,}((?:\\S+\\s?\\S*)+)',r'\\t\\1',x) for x in a]\n",
    "        #a=[re.sub(r'\\s{2,}',r'\\t',x) for x in a]\n",
    "\n",
    "        print(\"8/10\")\n",
    "        a=[x.replace('{hline}','-----------------------------------------------------------') for x in a]\n",
    "        a=[re.sub(r'\\A\\s+(\\S*)\\s+\\{c\\s\\|\\}',r'\\1\\t',x) for x in a]\n",
    "        a=[re.sub(r'\\A\\{c\\s\\|\\}',r'',x) for x in a]\n",
    "        a=[re.sub(r'\\{c\\s\\|\\}\\Z',r'',x) for x in a]\n",
    "        a=[re.sub(r'\\{c\\s\\|\\}',r'',x) for x in a]\n",
    "        a=[re.sub(r'\\{c\\s-\\}',r'\\t-\\t',x) for x in a]\n",
    "        a=[re.sub(r'(\\d+.?\\d*)\\s\\((\\d+.?\\s?\\d*%?)\\)',r'\\1\\t\\2',x) for x in a]\n",
    "        a=[re.sub(r'\\A\\t\\t\\|',r'',x) for x in a]\n",
    "        a=[re.sub(r'\\A\\{space.*?\\}',r'',x) for x in a]\n",
    "        a=[re.sub(r'\\{space.*?\\}',r'\\t',x) for x in a]\n",
    "        a=[re.sub(r'\\A\\{col\\s?1\\}\\s+',r'', x) for x in a]\n",
    "        a=[re.sub(r'\\{col\\s?([0-9]+)\\}', lambda m: ' ' * int(m.group(1)), x) for x in a]\n",
    "\n",
    "        a=[re.sub(r'(\\.?\\d*\\.?\\d*)\\s\\((\\.?\\d*\\.?\\s?\\d*%?)\\)',r'\\1\\t\\2',x) for x in a]\n",
    "\n",
    "        a=[re.sub(r'\\s{2,}((?:\\S+\\s?\\S*)+)',r'\\t\\1',x) for x in a]\n",
    "        #print(a)\n",
    "        a=[x.replace('__changeherelater__','combined') for x in a]\n",
    "        a=[x.replace('__changeherelater2__','') for x in a]\n",
    "        a=[x.replace('\\t\\t','\\t') for x in a]\n",
    "        a=[x.replace('__changeherelater3__','\\t\\t') for x in a]\n",
    "        \n",
    "        #print(a)\n",
    "        print(\"9/10\")\n",
    "        n=len(a)\n",
    "\n",
    "        #for i in range(n):\n",
    "        #    print((a[i]))\n",
    "        print(\"10/10\")\n",
    "        f = open(path + '{0}.txt'.format(filename),'w')\n",
    "        for i in range(n):\n",
    "            f.write((a[i]))\n",
    "\n",
    "        f.close()"
   ]
  },
  {
   "cell_type": "code",
   "execution_count": null,
   "metadata": {},
   "outputs": [],
   "source": []
  },
  {
   "cell_type": "code",
   "execution_count": null,
   "metadata": {},
   "outputs": [],
   "source": []
  },
  {
   "cell_type": "code",
   "execution_count": 138,
   "metadata": {},
   "outputs": [
    {
     "name": "stdout",
     "output_type": "stream",
     "text": [
      "cd \"/Users/pineapple/Downloads/Gmail-2/\"\n",
      "results_20180828h7e\n",
      "/Users/pineapple/Downloads/Gmail-2/\n",
      "['results_20180828h7e']\n",
      "0/10\n",
      "1/10\n",
      "2/10\n",
      "8/10\n",
      "9/10\n",
      "10/10\n"
     ]
    }
   ],
   "source": [
    "#!/usr/bin/env python\n",
    "# newest decoder 2018-10-25\n",
    "import re\n",
    "\n",
    "text='''cd \"/Users/pineapple/Downloads/Gmail-2/\"\n",
    "results_20180828h7e'''\n",
    "\n",
    "print(text)\n",
    "text=text.split(\"\\n\")\n",
    "#text=text[1:-1]\n",
    "path=text[0].split('\"')\n",
    "path=path[1]\n",
    "print(path)\n",
    "\n",
    "\n",
    "text=text[1:]\n",
    "filenames=[]\n",
    "for i in range(len(text)):\n",
    "    filenames.append(text[0].split(\".smcl\")[0])\n",
    "    text=text[1:]\n",
    "print(filenames)\n",
    "    \n",
    "#filenames=[\"results_20180112c1\",\"results_20180112b1\"]\n",
    "#filenames=[\"tadokoro\"]\n",
    "\n",
    "for filename in filenames:\n",
    "\n",
    "    if filename==\"\":\n",
    "        break\n",
    "    else:\n",
    "        f = open(path + '{0}.smcl'.format(filename), 'r')\n",
    "        print(\"0/10\")\n",
    "        a=[]\n",
    "        for line in f:\n",
    "            a.append(line)\n",
    "        f.close()\n",
    "\n",
    "        a=[x.replace('{smcl}\\n','') for x in a]\n",
    "        a=[x.replace('{com}','') for x in a]\n",
    "        a=[x.replace('{sf}','') for x in a]\n",
    "        a=[x.replace('{ul off}','') for x in a]\n",
    "        a=[x.replace('{txt}','') for x in a]\n",
    "        a=[x.replace('{.-}','') for x in a]\n",
    "        a=[x.replace('{res}','') for x in a]\n",
    "        a=[x.replace('{c TLC}','┌\\t') for x in a]\n",
    "        a=[x.replace('{c TRC}','\\t┐') for x in a]\n",
    "        a=[x.replace('{c BLC}','└\\t') for x in a]\n",
    "        a=[x.replace('{c BRC}','\\t┘') for x in a]\n",
    "        a=[x.replace('{c LT}','├\\t') for x in a]\n",
    "        a=[x.replace('{c RT}','\\t┤') for x in a]\n",
    "        a=[x.replace('{c +}','\\t┼\\t') for x in a]\n",
    "        a=[x.replace('{c TT}','\\t┬\\t') for x in a]\n",
    "        a=[x.replace('{c BT}','\\t┴\\t') for x in a]\n",
    "    \n",
    "        print(\"1/10\")\n",
    "        #a=[re.sub(r'\\{hline +([0-9]+)\\}', lambda m: '-' * int(m.group(1)), x) for x in a]\n",
    "        a=[re.sub(r'\\{hline +([0-9]+)\\}', lambda m: ('-' * int(m.group(1))+'\\t'), x) for x in a]\n",
    "\n",
    "        print(\"2/10\")\n",
    "        a=[re.sub(r'{it:(.*?)}',r'\\1',x) for x in a]\n",
    "        a=[re.sub(r'\\s{2,}((?:\\S+\\s?\\S*)+)',r'\\t\\1',x) for x in a]\n",
    "\n",
    "        print(\"8/10\")\n",
    "        a=[x.replace('{hline}','-----------------------------------------------------------') for x in a]\n",
    "\n",
    "        a=[re.sub(r'\\A{c \\|}',r'\\|\\t',x) for x in a]\n",
    "        a=[re.sub(r'{c \\|}\\Z',r'\\t|',x) for x in a]\n",
    "        a=[re.sub(r'{c \\|}',r'\\t|\\t',x) for x in a]\n",
    "        a=[re.sub(r'{c -}',r'\\t-\\t',x) for x in a]\n",
    "        a=[re.sub(r'(\\d+.?\\d*)\\s\\((\\d+.?\\s?\\d*%?)\\)',r'\\1\\t\\2',x) for x in a]\n",
    "        a=[re.sub(r'\\A\\t\\t\\|',r'\\t|',x) for x in a]\n",
    "        #a=[re.sub(r'\\{space +([0-9]+)\\}', lambda m: ' ' * int(m.group(1)), x) for x in a]\n",
    "        a=[re.sub(r'\\{space.*?\\}',r'\\t',x) for x in a]\n",
    "        a=[re.sub(r'\\{col +([0-9]+)\\}', lambda m: ' ' * int(m.group(1)), x) for x in a]\n",
    "\n",
    "        a=[re.sub(r'(\\.?\\d+.?\\d*)\\s\\((\\.?\\d+.?\\s?\\d*%?)\\)',r'\\1\\t\\2',x) for x in a]\n",
    "\n",
    "        a=[re.sub(r'\\s{2,}((?:\\S+\\s?\\S*)+)',r'\\t\\1',x) for x in a]\n",
    "\n",
    "        print(\"9/10\")\n",
    "        n=len(a)\n",
    "\n",
    "        #for i in range(n):\n",
    "        #    print((a[i]))\n",
    "        print(\"10/10\")\n",
    "        f = open(path + '{0}.txt'.format(filename),'w')\n",
    "        for i in range(n):\n",
    "            f.write((a[i]))\n",
    "\n",
    "        f.close()"
   ]
  },
  {
   "cell_type": "code",
   "execution_count": 5,
   "metadata": {},
   "outputs": [
    {
     "name": "stdout",
     "output_type": "stream",
     "text": [
      "\n",
      "cd \"/Users/Pineapple/Downloads/re (1)/\"\n",
      "results_20180828h7a.smcl\n",
      "results_20180828h8a.smcl\n",
      "\n"
     ]
    }
   ],
   "source": [
    "text='''\n",
    "cd \"/Users/Pineapple/Downloads/re (1)/\"\n",
    "results_20180828h7a.smcl\n",
    "results_20180828h8a.smcl\n",
    "'''\n",
    "\n",
    "print(text)"
   ]
  },
  {
   "cell_type": "code",
   "execution_count": null,
   "metadata": {},
   "outputs": [],
   "source": []
  },
  {
   "cell_type": "code",
   "execution_count": null,
   "metadata": {
    "collapsed": true
   },
   "outputs": [],
   "source": []
  },
  {
   "cell_type": "code",
   "execution_count": null,
   "metadata": {
    "collapsed": true
   },
   "outputs": [],
   "source": []
  },
  {
   "cell_type": "code",
   "execution_count": null,
   "metadata": {
    "collapsed": true
   },
   "outputs": [],
   "source": [
    "#OLD version\n",
    "#!/usr/bin/env python\n",
    "import re\n",
    "filenames=[\"results_20180112c1\",\"results_20180112b1\"]\n",
    "#filenames=[\"tadokoro\"]\n",
    "\n",
    "for filename in filenames:\n",
    "\n",
    "    if filename==\"\":\n",
    "        break\n",
    "    else:\n",
    "        f = open('/Users/Pineapple/Downloads/__stataconverter/{0}.smcl'.format(filename), 'r')\n",
    "        print(\"0/10\")\n",
    "        a=[]\n",
    "        for line in f:\n",
    "            a.append(line)\n",
    "        f.close()\n",
    "\n",
    "        a=[x.replace('{smcl}\\n','') for x in a]\n",
    "        a=[x.replace('{com}','') for x in a]\n",
    "        a=[x.replace('{sf}','') for x in a]\n",
    "        a=[x.replace('{ul off}','') for x in a]\n",
    "        a=[x.replace('{txt}','') for x in a]\n",
    "        a=[x.replace('{.-}','') for x in a]\n",
    "        a=[x.replace('{res}','') for x in a]\n",
    "        a=[x.replace('{c TLC}','┌\\t') for x in a]\n",
    "        a=[x.replace('{c TRC}','\\t┐') for x in a]\n",
    "        a=[x.replace('{c BLC}','└\\t') for x in a]\n",
    "        a=[x.replace('{c BRC}','\\t┘') for x in a]\n",
    "        a=[x.replace('{c LT}','├\\t') for x in a]\n",
    "        a=[x.replace('{c RT}','\\t┤') for x in a]\n",
    "        a=[x.replace('{c +}','\\t┼\\t') for x in a]\n",
    "        a=[x.replace('{c TT}','\\t┬\\t') for x in a]\n",
    "        a=[x.replace('{c BT}','\\t┴\\t') for x in a]\n",
    "    \n",
    "        print(\"1/10\")\n",
    "        #a=[re.sub(r'\\{hline +([0-9]+)\\}', lambda m: '-' * int(m.group(1)), x) for x in a]\n",
    "        a=[re.sub(r'\\{hline +([0-9]+)\\}', lambda m: ('-' * int(m.group(1))+'\\t'), x) for x in a]\n",
    "\n",
    "        print(\"2/10\")\n",
    "        a=[re.sub(r'{it:(.*?)}',r'\\1',x) for x in a]\n",
    "        a=[re.sub(r'\\s{2,}((?:\\S+\\s?\\S*)+)',r'\\t\\1',x) for x in a]\n",
    "\n",
    "        print(\"8/10\")\n",
    "        a=[x.replace('{hline}','-----------------------------------------------------------') for x in a]\n",
    "\n",
    "        a=[re.sub(r'\\A{c \\|}',r'\\|\\t',x) for x in a]\n",
    "        a=[re.sub(r'{c \\|}\\Z',r'\\t|',x) for x in a]\n",
    "        a=[re.sub(r'{c \\|}',r'\\t|\\t',x) for x in a]\n",
    "        a=[re.sub(r'{c -}',r'\\t-\\t',x) for x in a]\n",
    "        a=[re.sub(r'(\\d+.?\\d*)\\s\\((\\d+.?\\s?\\d*%?)\\)',r'\\1\\t\\2',x) for x in a]\n",
    "        a=[re.sub(r'\\A\\t\\t\\|',r'\\t|',x) for x in a]\n",
    "        #a=[re.sub(r'\\{space +([0-9]+)\\}', lambda m: ' ' * int(m.group(1)), x) for x in a]\n",
    "        a=[re.sub(r'\\{space.*?\\}',r'\\t',x) for x in a]\n",
    "        a=[re.sub(r'\\{col +([0-9]+)\\}', lambda m: ' ' * int(m.group(1)), x) for x in a]\n",
    "\n",
    "        a=[re.sub(r'(\\.?\\d+.?\\d*)\\s\\((\\.?\\d+.?\\s?\\d*%?)\\)',r'\\1\\t\\2',x) for x in a]\n",
    "\n",
    "        a=[re.sub(r'\\s{2,}((?:\\S+\\s?\\S*)+)',r'\\t\\1',x) for x in a]\n",
    "\n",
    "        print(\"9/10\")\n",
    "        n=len(a)\n",
    "\n",
    "        #for i in range(n):\n",
    "        #    print((a[i]))\n",
    "        print(\"10/10\")\n",
    "        f = open('/Users/Pineapple/Downloads/__stataconverter/{0}.txt'.format(filename),'w')\n",
    "        for i in range(n):\n",
    "            f.write((a[i]))\n",
    "\n",
    "        f.close()"
   ]
  },
  {
   "cell_type": "code",
   "execution_count": 45,
   "metadata": {},
   "outputs": [
    {
     "name": "stdout",
     "output_type": "stream",
     "text": [
      "143320\n"
     ]
    }
   ],
   "source": [
    "print(156800-13480)"
   ]
  },
  {
   "cell_type": "code",
   "execution_count": null,
   "metadata": {
    "collapsed": true
   },
   "outputs": [],
   "source": []
  },
  {
   "cell_type": "code",
   "execution_count": null,
   "metadata": {
    "collapsed": true
   },
   "outputs": [],
   "source": []
  },
  {
   "cell_type": "code",
   "execution_count": null,
   "metadata": {
    "collapsed": true
   },
   "outputs": [],
   "source": []
  },
  {
   "cell_type": "code",
   "execution_count": null,
   "metadata": {
    "collapsed": true
   },
   "outputs": [],
   "source": []
  },
  {
   "cell_type": "code",
   "execution_count": null,
   "metadata": {
    "collapsed": true
   },
   "outputs": [],
   "source": []
  },
  {
   "cell_type": "code",
   "execution_count": null,
   "metadata": {
    "collapsed": true
   },
   "outputs": [],
   "source": []
  },
  {
   "cell_type": "code",
   "execution_count": null,
   "metadata": {
    "collapsed": true
   },
   "outputs": [],
   "source": []
  },
  {
   "cell_type": "code",
   "execution_count": null,
   "metadata": {
    "collapsed": true
   },
   "outputs": [],
   "source": []
  },
  {
   "cell_type": "code",
   "execution_count": null,
   "metadata": {
    "collapsed": true
   },
   "outputs": [],
   "source": []
  },
  {
   "cell_type": "code",
   "execution_count": null,
   "metadata": {
    "collapsed": true
   },
   "outputs": [],
   "source": []
  },
  {
   "cell_type": "code",
   "execution_count": null,
   "metadata": {
    "collapsed": true
   },
   "outputs": [],
   "source": []
  },
  {
   "cell_type": "code",
   "execution_count": 40,
   "metadata": {},
   "outputs": [
    {
     "name": "stdout",
     "output_type": "stream",
     "text": [
      "['今日', 'は']\n",
      "['は', 'すごく']\n",
      "['すごく', '美味しい']\n",
      "['美味しい', '牛丼']\n",
      "['牛丼', 'を']\n",
      "['を', '食べ']\n",
      "['食べ', 'た']\n"
     ]
    }
   ],
   "source": [
    "parsed_sentence = ['今日', 'は', 'すごく', '美味しい', '牛丼', 'を', '食べ', 'た']\n",
    "for i in range(len(parsed_sentence) - 1):\n",
    "    print(parsed_sentence[i:i+2])\n",
    "    #bigram_process(parsed_sentence[i:i+2])"
   ]
  },
  {
   "cell_type": "code",
   "execution_count": 43,
   "metadata": {},
   "outputs": [
    {
     "name": "stdout",
     "output_type": "stream",
     "text": [
      "['は', 'すごく', '美味しい', '牛丼', 'を', '食べ', 'た']\n",
      "('今日', 'は')\n",
      "('は', 'すごく')\n",
      "('すごく', '美味しい')\n",
      "('美味しい', '牛丼')\n",
      "('牛丼', 'を')\n",
      "('を', '食べ')\n",
      "('食べ', 'た')\n"
     ]
    }
   ],
   "source": [
    "parsed_sentence = ['今日', 'は', 'すごく', '美味しい', '牛丼', 'を', '食べ', 'た']\n",
    "\n",
    "print(parsed_sentence[1:])\n",
    "for bigram_morph in zip(parsed_sentence[:-1], parsed_sentence[1:]):\n",
    "    # bigram_morphの中身は ('今日', 'は'), ('は', 'すごく'), ... となる\n",
    "    #bigram_process(bigram_morph)\n",
    "    print(bigram_morph)"
   ]
  },
  {
   "cell_type": "code",
   "execution_count": null,
   "metadata": {
    "collapsed": true
   },
   "outputs": [],
   "source": []
  },
  {
   "cell_type": "code",
   "execution_count": null,
   "metadata": {
    "collapsed": true
   },
   "outputs": [],
   "source": []
  },
  {
   "cell_type": "code",
   "execution_count": null,
   "metadata": {
    "collapsed": true
   },
   "outputs": [],
   "source": []
  },
  {
   "cell_type": "code",
   "execution_count": null,
   "metadata": {
    "collapsed": true
   },
   "outputs": [],
   "source": []
  },
  {
   "cell_type": "code",
   "execution_count": null,
   "metadata": {
    "collapsed": true
   },
   "outputs": [],
   "source": []
  },
  {
   "cell_type": "code",
   "execution_count": null,
   "metadata": {
    "collapsed": true
   },
   "outputs": [],
   "source": [
    "以下20181105開発バージョン"
   ]
  },
  {
   "cell_type": "code",
   "execution_count": 137,
   "metadata": {},
   "outputs": [
    {
     "name": "stdout",
     "output_type": "stream",
     "text": [
      "cd \"/Users/pineapple/Downloads/Gmail-2/\"\n",
      "results_20180828h7e\n",
      "/Users/pineapple/Downloads/Gmail-2/\n",
      "['results_20180828h7e']\n",
      "0/10\n",
      "1/10\n",
      "2/10\n",
      "8/10\n",
      "9/10\n",
      "10/10\n"
     ]
    }
   ],
   "source": [
    "#!/usr/bin/env python\n",
    "# newest decoder 2018-10-25\n",
    "import re\n",
    "\n",
    "text='''cd \"/Users/pineapple/Downloads/Gmail-2/\"\n",
    "results_20180828h7e'''\n",
    "\n",
    "print(text)\n",
    "text=text.split(\"\\n\")\n",
    "#text=text[1:-1]\n",
    "path=text[0].split('\"')\n",
    "path=path[1]\n",
    "print(path)\n",
    "\n",
    "\n",
    "text=text[1:]\n",
    "filenames=[]\n",
    "for i in range(len(text)):\n",
    "    filenames.append(text[0].split(\".smcl\")[0])\n",
    "    text=text[1:]\n",
    "print(filenames)\n",
    "    \n",
    "#filenames=[\"results_20180112c1\",\"results_20180112b1\"]\n",
    "#filenames=[\"tadokoro\"]\n",
    "\n",
    "for filename in filenames:\n",
    "\n",
    "    if filename==\"\":\n",
    "        break\n",
    "    else:\n",
    "        f = open(path + '{0}.smcl'.format(filename), 'r')\n",
    "        print(\"0/10\")\n",
    "        a=[]\n",
    "        for line in f:\n",
    "            a.append(line)\n",
    "        f.close()\n",
    "       \n",
    "        a=[x.replace('combined {c |}{res}','__changeherelater__') for x in a]\n",
    "        a=[x.replace('{txt}{c |}{res}','__changeherelater2__') for x in a]\n",
    "        \n",
    "        a=[re.sub(r'\\s+(name:\\s\\s\\{res\\})',r'\\1',x) for x in a]  \n",
    "        a=[re.sub(r'\\s+(Group)',r'\\1',x) for x in a] \n",
    "        a=[re.sub(r'\\s+({txt}log)',r'\\1',x) for x in a] \n",
    "        a=[re.sub(r'\\s+({txt}opened on:)',r'\\1',x) for x in a] \n",
    "        a=[re.sub(r'Pr = {res}0.000',r'Pr = \\t<0.001',x) for x in a] \n",
    "        a=[re.sub(r'Pr = {res}',r'Pr = \\t',x) for x in a] \n",
    "        a=[re.sub(r'\\s+({txt})',r'\\1',x) for x in a] \n",
    "        a=[re.sub(r'\\s+(diff\\s)\\{c\\s\\|\\}\\{res\\}\\{col\\s22\\}\\s?(-?\\d*\\.?\\d*)\\s?\\{col\\s34\\}\\s?(-?\\d*\\.?\\d*)\\s?\\{col\\s58\\}\\s?(-?\\d*\\.?\\d*)\\s?\\{col\\s70\\}\\s?(-?\\d*\\.?\\d*).*',r'\\1__changeherelater3__\\2\\t\\3__changeherelater3__\\4\\t\\5',x) for x in a]                 \n",
    "        a=[re.sub(r'\\s+(Total {c |}{res})',r'\\1',x) for x in a]\n",
    "        a=[re.sub(r'\\s+(\\d+ {c |}{res})',r'\\1',x) for x in a]\n",
    "        a=[re.sub(r'({txt})\\s+(\\d+ {c |})',r'\\1\\2',x) for x in a]\n",
    "        a=[re.sub(r'\\. di.*',r'',x) for x in a]\n",
    "        a=[x.replace('{smcl}\\n','') for x in a]\n",
    "        a=[x.replace('{com}.','') for x in a]\n",
    "        a=[x.replace('{sf}','') for x in a]\n",
    "        a=[x.replace('{ul off}','') for x in a]\n",
    "        a=[x.replace('{txt}','') for x in a]\n",
    "        a=[x.replace('{.-}','') for x in a]\n",
    "        a=[x.replace('{res}','') for x in a]\n",
    "        a=[x.replace('{c TLC}','') for x in a]\n",
    "        a=[x.replace('{c TRC}','') for x in a]\n",
    "        a=[x.replace('{c BLC}','') for x in a]\n",
    "        a=[x.replace('{c BRC}','') for x in a]\n",
    "        a=[x.replace('{c LT}','') for x in a]\n",
    "        a=[x.replace('{c RT}','') for x in a]\n",
    "        a=[x.replace('{c +}','') for x in a]\n",
    "        a=[x.replace('{c TT}','') for x in a]\n",
    "        a=[x.replace('{c BT}','') for x in a]\n",
    "    \n",
    "        print(\"1/10\")\n",
    "        #a=[re.sub(r'\\{hline +([0-9]+)\\}', lambda m: '-' * int(m.group(1)), x) for x in a]\n",
    "        a=[re.sub(r'\\{hline +([0-9]+)\\}', lambda m: ('-' * int(m.group(1))+'\\t'), x) for x in a]\n",
    "\n",
    "        print(\"2/10\")\n",
    "        a=[re.sub(r'{it:(.*?)}',r'\\1',x) for x in a]\n",
    "        a=[re.sub(r'\\s{2,}((?:\\S+\\s?\\S*)+)',r'\\t\\1',x) for x in a]\n",
    "\n",
    "        print(\"8/10\")\n",
    "        a=[x.replace('{hline}','-----------------------------------------------------------') for x in a]\n",
    "\n",
    "        a=[re.sub(r'\\A{c \\|}',r'',x) for x in a]\n",
    "        a=[re.sub(r'{c \\|}\\Z',r'',x) for x in a]\n",
    "        a=[re.sub(r'{c \\|}',r'',x) for x in a]\n",
    "        a=[re.sub(r'{c -}',r'\\t-\\t',x) for x in a]\n",
    "        a=[re.sub(r'(\\d+.?\\d*)\\s\\((\\d+.?\\s?\\d*%?)\\)',r'\\1\\t\\2',x) for x in a]\n",
    "        a=[re.sub(r'\\A\\t\\t\\|',r'',x) for x in a]\n",
    "        #a=[re.sub(r'\\{space +([0-9]+)\\}', lambda m: ' ' * int(m.group(1)), x) for x in a]\n",
    "        a=[re.sub(r'\\{space.*?\\}',r'\\t',x) for x in a]\n",
    "        a=[re.sub(r'\\{col +([0-9]+)\\}', lambda m: ' ' * int(m.group(1)), x) for x in a]\n",
    "\n",
    "        a=[re.sub(r'(\\.?\\d+.?\\d*)\\s\\((\\.?\\d+.?\\s?\\d*%?)\\)',r'\\1\\t\\2',x) for x in a]\n",
    "\n",
    "        a=[re.sub(r'\\s{2,}((?:\\S+\\s?\\S*)+)',r'\\t\\1',x) for x in a]\n",
    "        #print(a)\n",
    "        a=[x.replace('__changeherelater__','combined') for x in a]\n",
    "        a=[x.replace('__changeherelater2__','') for x in a]\n",
    "        a=[x.replace('\\t\\t','\\t') for x in a]\n",
    "        a=[x.replace('__changeherelater3__','\\t\\t') for x in a]\n",
    "        \n",
    "        #print(a)\n",
    "        print(\"9/10\")\n",
    "        n=len(a)\n",
    "\n",
    "        #for i in range(n):\n",
    "        #    print((a[i]))\n",
    "        print(\"10/10\")\n",
    "        f = open(path + '{0}.txt'.format(filename),'w')\n",
    "        for i in range(n):\n",
    "            f.write((a[i]))\n",
    "\n",
    "        f.close()"
   ]
  },
  {
   "cell_type": "code",
   "execution_count": 134,
   "metadata": {},
   "outputs": [
    {
     "name": "stdout",
     "output_type": "stream",
     "text": [
      "['    diff {c |}{res}{col 22}-1.016807{col 34} 1.605859{col 58}-4.164253{col 70} 2.130639', '    diff {c |}{res}{col 22} -1.22383{col 34} .7325849{col 58}-2.659681{col 70} .2120216']\n",
      "['diff \\t-1.016807\\t1.605859\\t\\t-4.164253\\t2.130639', 'diff \\t-1.22383\\t.7325849\\t\\t-2.659681\\t.2120216']\n"
     ]
    }
   ],
   "source": [
    "import re\n",
    "a=['. di \"******* h2.dta **************\"','           {txt}{c |}{res}     42.86      41.68 {txt}{c |}{res}     42.11 ']\n",
    "\n",
    "a=['    diff {c |}{res}{col 22}-1.016807{col 34} 1.605859{col 58}-4.164253{col 70} 2.130639','    diff {c |}{res}{col 22} -1.22383{col 34} .7325849{col 58}-2.659681{col 70} .2120216']\n",
    "print(a)\n",
    "#a=[x.replace(' {txt}{c |}','\\t\\t\\t') for x in a]\n",
    "#a=[re.sub(r'\\. di.*',r'',x) for x in a]\n",
    "#a=[x.replace('{res}','') for x in a]\n",
    "\n",
    "#a=[re.sub(r'\\s+(diff ){c |}{res}{col 22}(\\s-?\\d+.?\\d*){col 34}(\\s-?\\d+.?\\d*){col 58}(-\\s-?\\d+.?\\d*){col 70}(\\s-?\\d+.?\\d*.*)',r'__changeherelater3__',x) for x in a] \n",
    "\n",
    "#a=[re.sub(r'\\s+(diff )\\{c\\s\\|\\}\\{res\\}\\{col 22\\}(\\s-?\\d+.?\\d*)\\{col 34\\}',r'',x) for x in a] \n",
    "#a=[re.sub(r'\\s+(diff\\s)\\{c\\s\\|\\}\\{res\\}\\{col\\s22\\}\\s?(-?\\d+.?\\d*)\\s?\\{col\\s34\\}\\s?(-?\\d+.?\\d*)\\s?\\{col\\s58\\}\\s?(-?\\d+.?\\d*)\\s?\\{col\\s70\\}\\s?(-?\\d+.?\\d*).*',r'\\1\\t\\2\\t\\3__changeherelater3__\\4\\t\\5',x) for x in a]                 \n",
    "a=[re.sub(r'\\s+(diff\\s)\\{c\\s\\|\\}\\{res\\}\\{col\\s22\\}\\s?(-?\\d*\\.?\\d*)\\s?\\{col\\s34\\}\\s?(-?\\d*\\.?\\d*)\\s?\\{col\\s58\\}\\s?(-?\\d*\\.?\\d*)\\s?\\{col\\s70\\}\\s?(-?\\d*\\.?\\d*).*',r'\\1\\t\\2\\t\\3__changeherelater3__\\4\\t\\5',x) for x in a]                 \n",
    "\n",
    "       \n",
    "\n",
    "        \n",
    "    \n",
    "a=[x.replace('__changeherelater3__','\\t\\t') for x in a]\n",
    "print(a)"
   ]
  },
  {
   "cell_type": "code",
   "execution_count": 9,
   "metadata": {},
   "outputs": [
    {
     "name": "stdout",
     "output_type": "stream",
     "text": [
      "['{col 1}        mrsbad2{col 17}{c |} Odds Ratio{col 29}   Std. Err.{col 41}      z{col 49}   P>|z|{col 57}     [95% Con{col 70}f. Interval]']\n",
      "['mrsbad2                 {c |} Odds Ratio                                Std. Err.                                               z                                                    P>|z|                                                              [95% Con                                                                      f. Interval]']\n"
     ]
    }
   ],
   "source": [
    "import re\n",
    "a=['{col 1}        mrsbad2{col 17}{c |} Odds Ratio{col 29}   Std. Err.{col 41}      z{col 49}   P>|z|{col 57}     [95% Con{col 70}f. Interval]']\n",
    "print(a)\n",
    "a=[re.sub(r'\\A\\{col\\s?1\\}\\s+',r'', x) for x in a]\n",
    "a=[re.sub(r'\\{col\\s?([0-9]+)\\}', lambda m: ' ' * int(m.group(1)), x) for x in a]\n",
    "print(a)"
   ]
  },
  {
   "cell_type": "code",
   "execution_count": null,
   "metadata": {
    "collapsed": true
   },
   "outputs": [],
   "source": []
  },
  {
   "cell_type": "code",
   "execution_count": null,
   "metadata": {
    "collapsed": true
   },
   "outputs": [],
   "source": []
  },
  {
   "cell_type": "code",
   "execution_count": null,
   "metadata": {
    "collapsed": true
   },
   "outputs": [],
   "source": []
  },
  {
   "cell_type": "code",
   "execution_count": null,
   "metadata": {
    "collapsed": true
   },
   "outputs": [],
   "source": []
  },
  {
   "cell_type": "code",
   "execution_count": null,
   "metadata": {
    "collapsed": true
   },
   "outputs": [],
   "source": []
  },
  {
   "cell_type": "code",
   "execution_count": null,
   "metadata": {
    "collapsed": true
   },
   "outputs": [],
   "source": []
  },
  {
   "cell_type": "code",
   "execution_count": null,
   "metadata": {
    "collapsed": true
   },
   "outputs": [],
   "source": []
  },
  {
   "cell_type": "code",
   "execution_count": null,
   "metadata": {
    "collapsed": true
   },
   "outputs": [],
   "source": []
  },
  {
   "cell_type": "code",
   "execution_count": null,
   "metadata": {
    "collapsed": true
   },
   "outputs": [],
   "source": []
  },
  {
   "cell_type": "code",
   "execution_count": null,
   "metadata": {
    "collapsed": true
   },
   "outputs": [],
   "source": []
  },
  {
   "cell_type": "code",
   "execution_count": null,
   "metadata": {
    "collapsed": true
   },
   "outputs": [],
   "source": []
  },
  {
   "cell_type": "code",
   "execution_count": null,
   "metadata": {
    "collapsed": true
   },
   "outputs": [],
   "source": []
  },
  {
   "cell_type": "code",
   "execution_count": null,
   "metadata": {
    "collapsed": true
   },
   "outputs": [],
   "source": []
  },
  {
   "cell_type": "code",
   "execution_count": null,
   "metadata": {
    "collapsed": true
   },
   "outputs": [],
   "source": []
  },
  {
   "cell_type": "code",
   "execution_count": null,
   "metadata": {
    "collapsed": true
   },
   "outputs": [],
   "source": []
  },
  {
   "cell_type": "code",
   "execution_count": null,
   "metadata": {
    "collapsed": true
   },
   "outputs": [],
   "source": []
  },
  {
   "cell_type": "code",
   "execution_count": null,
   "metadata": {
    "collapsed": true
   },
   "outputs": [],
   "source": []
  },
  {
   "cell_type": "code",
   "execution_count": null,
   "metadata": {
    "collapsed": true
   },
   "outputs": [],
   "source": []
  },
  {
   "cell_type": "code",
   "execution_count": null,
   "metadata": {
    "collapsed": true
   },
   "outputs": [],
   "source": []
  },
  {
   "cell_type": "code",
   "execution_count": null,
   "metadata": {
    "collapsed": true
   },
   "outputs": [],
   "source": []
  },
  {
   "cell_type": "code",
   "execution_count": null,
   "metadata": {
    "collapsed": true
   },
   "outputs": [],
   "source": []
  },
  {
   "cell_type": "code",
   "execution_count": null,
   "metadata": {
    "collapsed": true
   },
   "outputs": [],
   "source": []
  },
  {
   "cell_type": "code",
   "execution_count": 6,
   "metadata": {},
   "outputs": [
    {
     "name": "stdout",
     "output_type": "stream",
     "text": [
      "['28 (23.5,\\t28)']\n"
     ]
    }
   ],
   "source": [
    "a=[]\n",
    "a.append(re.sub(r'(\\d+.?\\d*?)\\s(\\d+?)',r'\\1\\t\\2',r'28 (23.5, 28)'))\n",
    "print(a)"
   ]
  },
  {
   "cell_type": "code",
   "execution_count": null,
   "metadata": {
    "collapsed": true
   },
   "outputs": [],
   "source": []
  },
  {
   "cell_type": "code",
   "execution_count": 42,
   "metadata": {},
   "outputs": [
    {
     "name": "stdout",
     "output_type": "stream",
     "text": [
      "0/10\n",
      "1/10\n",
      "2/10\n",
      "3/10\n",
      "4/10\n",
      "5/10\n",
      "6/10\n",
      "7/10\n",
      "8/10\n",
      "9/10\n",
      "10/10\n"
     ]
    }
   ],
   "source": [
    "#!/usr/bin/env python\n",
    "import re\n",
    "f = open('/Users/Pineapple/Downloads/table1.txt', 'r')\n",
    "print(\"0/10\")\n",
    "a=[]\n",
    "for line in f:\n",
    "    a.append(line)\n",
    "f.close()\n",
    "\n",
    "\n",
    "a=[x.replace('{smcl}\\n','') for x in a]\n",
    "a=[x.replace('{com}','') for x in a]\n",
    "a=[x.replace('{sf}','') for x in a]\n",
    "a=[x.replace('{ul off}','') for x in a]\n",
    "a=[x.replace('{txt}','') for x in a]\n",
    "a=[x.replace('{.-}','') for x in a]\n",
    "a=[x.replace('{res}','') for x in a]\n",
    "a=[x.replace('{c TLC}','┌\\t') for x in a]\n",
    "a=[x.replace('{c TRC}','\\t┐') for x in a]\n",
    "a=[x.replace('{c BLC}','└\\t') for x in a]\n",
    "a=[x.replace('{c BRC}','\\t┘') for x in a]\n",
    "a=[x.replace('{c LT}','├\\t') for x in a]\n",
    "a=[x.replace('{c RT}','\\t┤') for x in a]\n",
    "a=[x.replace('{c +}','\\t┼\\t') for x in a]\n",
    "\n",
    "print(\"1/10\")\n",
    "#a=[re.sub(r'\\{hline +([0-9]+)\\}', lambda m: '-' * int(m.group(1)), x) for x in a]\n",
    "a=[x if '{hline' not in x else re.sub(r'{hline (.*?)}',r'_____\"-\"*\\1_____',x) for x in a]\n",
    "a=[x.split('_____') for x in a]\n",
    "m=len(a)\n",
    "for i in range(m):\n",
    "    a[i]=[eval(y) if y[0:3] =='\"-\"' else y for y in a[i]]\n",
    "a=[\"\".join(x) for x in a]\n",
    "\n",
    "a=[x if '{space' not in x else re.sub(r'{space (.*?)}',r'_____\" \"*\\1_____',x) for x in a]\n",
    "a=[x.split('_____') for x in a]\n",
    "m=len(a)\n",
    "for i in range(m):\n",
    "    a[i]=[eval(y) if y[0:3] =='\" \"' else y for y in a[i]]\n",
    "a=[\"\".join(x) for x in a]\n",
    "\n",
    "a=[x if '{col' not in x else re.sub(r'{col (.*?)}',r'_____\" \"*\\1_____',x) for x in a]\n",
    "a=[x.split('_____') for x in a]\n",
    "m=len(a)\n",
    "for i in range(m):\n",
    "    a[i]=[eval(y) if y[0:3] =='\" \"' else y for y in a[i]]\n",
    "a=[\"\".join(x) for x in a]\n",
    "\n",
    "print(\"2/10\")\n",
    "a=[re.sub(r'{it:(.*?)}',r'\\1',x) for x in a]\n",
    "\n",
    "a=[re.sub(r'(\\S+\\s?\\S*)\\s\\s+(\\S+\\s?\\S*)\\s\\s+(\\S+\\s?\\S*)\\s\\s+(\\S+\\s?\\S*)\\s\\s+(\\S+\\s?\\S*)\\s\\s+(\\S+\\s?\\S*)\\s\\s+(\\S+\\s?\\S*)\\s\\s+(\\S+\\s?\\S*)\\s\\s+(\\S+\\s?\\S*)\\s\\s+(\\S+\\s?\\S*)\\s\\s+(\\S+\\s?\\S*)\\s\\s+(\\S+\\s?\\S*)\\s\\s+(\\S+\\s?\\S*)\\s\\s+(\\S+\\s?\\S*)\\s\\s+(\\S+\\s?\\S*)(.*\\n)',r'\\1\\t\\2\\t\\3\\t\\4\\t\\5\\t\\6\\t\\7\\t\\8\\t\\9\\t\\10\\t\\11\\t\\12\\t\\13\\t\\14\\t\\15\\16',x) for x in a]\n",
    "print(\"3/10\")\n",
    "a=[re.sub(r'(\\S+\\s?\\S*)\\s\\s+(\\S+\\s?\\S*)\\s\\s+(\\S+\\s?\\S*)\\s\\s+(\\S+\\s?\\S*)\\s\\s+(\\S+\\s?\\S*)\\s\\s+(\\S+\\s?\\S*)\\s\\s+(\\S+\\s?\\S*)\\s\\s+(\\S+\\s?\\S*)\\s\\s+(\\S+\\s?\\S*)\\s\\s+(\\S+\\s?\\S*)\\s\\s+(\\S+\\s?\\S*)\\s\\s+(\\S+\\s?\\S*)\\s\\s+(\\S+\\s?\\S*)\\s\\s+(\\S+\\s?\\S*)(.*\\n)',r'\\1\\t\\2\\t\\3\\t\\4\\t\\5\\t\\6\\t\\7\\t\\8\\t\\9\\t\\10\\t\\11\\t\\12\\t\\13\\t\\14\\15',x) for x in a]\n",
    "print(\"4/10\")\n",
    "a=[re.sub(r'(\\S+\\s?\\S*)\\s\\s+(\\S+\\s?\\S*)\\s\\s+(\\S+\\s?\\S*)\\s\\s+(\\S+\\s?\\S*)\\s\\s+(\\S+\\s?\\S*)\\s\\s+(\\S+\\s?\\S*)\\s\\s+(\\S+\\s?\\S*)\\s\\s+(\\S+\\s?\\S*)\\s\\s+(\\S+\\s?\\S*)\\s\\s+(\\S+\\s?\\S*)\\s\\s+(\\S+\\s?\\S*)\\s\\s+(\\S+\\s?\\S*)\\s\\s+(\\S+\\s?\\S*)(.*\\n)',r'\\1\\t\\2\\t\\3\\t\\4\\t\\5\\t\\6\\t\\7\\t\\8\\t\\9\\t\\10\\t\\11\\t\\12\\t\\13\\14',x) for x in a]\n",
    "a=[re.sub(r'(\\S+\\s?\\S*)\\s\\s+(\\S+\\s?\\S*)\\s\\s+(\\S+\\s?\\S*)\\s\\s+(\\S+\\s?\\S*)\\s\\s+(\\S+\\s?\\S*)\\s\\s+(\\S+\\s?\\S*)\\s\\s+(\\S+\\s?\\S*)\\s\\s+(\\S+\\s?\\S*)\\s\\s+(\\S+\\s?\\S*)\\s\\s+(\\S+\\s?\\S*)\\s\\s+(\\S+\\s?\\S*)\\s\\s+(\\S+\\s?\\S*)(.*\\n)',r'\\1\\t\\2\\t\\3\\t\\4\\t\\5\\t\\6\\t\\7\\t\\8\\t\\9\\t\\10\\t\\11\\t\\12\\13',x) for x in a]\n",
    "print(\"5/10\")\n",
    "a=[re.sub(r'(\\S+\\s?\\S*)\\s\\s+(\\S+\\s?\\S*)\\s\\s+(\\S+\\s?\\S*)\\s\\s+(\\S+\\s?\\S*)\\s\\s+(\\S+\\s?\\S*)\\s\\s+(\\S+\\s?\\S*)\\s\\s+(\\S+\\s?\\S*)\\s\\s+(\\S+\\s?\\S*)\\s\\s+(\\S+\\s?\\S*)\\s\\s+(\\S+\\s?\\S*)\\s\\s+(\\S+\\s?\\S*)(.*\\n)',r'\\1\\t\\2\\t\\3\\t\\4\\t\\5\\t\\6\\t\\7\\t\\8\\t\\9\\t\\10\\t\\11\\12',x) for x in a]\n",
    "a=[re.sub(r'(\\S+\\s?\\S*)\\s\\s+(\\S+\\s?\\S*)\\s\\s+(\\S+\\s?\\S*)\\s\\s+(\\S+\\s?\\S*)\\s\\s+(\\S+\\s?\\S*)\\s\\s+(\\S+\\s?\\S*)\\s\\s+(\\S+\\s?\\S*)\\s\\s+(\\S+\\s?\\S*)\\s\\s+(\\S+\\s?\\S*)\\s\\s+(\\S+\\s?\\S*)(.*\\n)',r'\\1\\t\\2\\t\\3\\t\\4\\t\\5\\t\\6\\t\\7\\t\\8\\t\\9\\t\\10\\11',x) for x in a]\n",
    "a=[re.sub(r'(\\S+\\s?\\S*)\\s\\s+(\\S+\\s?\\S*)\\s\\s+(\\S+\\s?\\S*)\\s\\s+(\\S+\\s?\\S*)\\s\\s+(\\S+\\s?\\S*)\\s\\s+(\\S+\\s?\\S*)\\s\\s+(\\S+\\s?\\S*)\\s\\s+(\\S+\\s?\\S*)\\s\\s+(\\S+\\s?\\S*)(.*\\n)',r'\\1\\t\\2\\t\\3\\t\\4\\t\\5\\t\\6\\t\\7\\t\\8\\t\\9\\10',x) for x in a]\n",
    "a=[re.sub(r'(\\S+\\s?\\S*)\\s\\s+(\\S+\\s?\\S*)\\s\\s+(\\S+\\s?\\S*)\\s\\s+(\\S+\\s?\\S*)\\s\\s+(\\S+\\s?\\S*)\\s\\s+(\\S+\\s?\\S*)\\s\\s+(\\S+\\s?\\S*)\\s\\s+(\\S+\\s?\\S*)(.*\\n)',r'\\1\\t\\2\\t\\3\\t\\4\\t\\5\\t\\6\\t\\7\\t\\8\\9',x) for x in a]\n",
    "print(\"6/10\")\n",
    "a=[re.sub(r'(\\S+\\s?\\S*)\\s\\s+(\\S+\\s?\\S*)\\s\\s+(\\S+\\s?\\S*)\\s\\s+(\\S+\\s?\\S*)\\s\\s+(\\S+\\s?\\S*)\\s\\s+(\\S+\\s?\\S*)\\s\\s+(\\S+\\s?\\S*)(.*\\n)',r'\\1\\t\\2\\t\\3\\t\\4\\t\\5\\t\\6\\t\\7\\8',x) for x in a]\n",
    "a=[re.sub(r'(\\S+\\s?\\S*)\\s\\s+(\\S+\\s?\\S*)\\s\\s+(\\S+\\s?\\S*)\\s\\s+(\\S+\\s?\\S*)\\s\\s+(\\S+\\s?\\S*)\\s\\s+(\\S+\\s?\\S*)(.*\\n)',r'\\1\\t\\2\\t\\3\\t\\4\\t\\5\\t\\6\\7',x) for x in a]\n",
    "a=[re.sub(r'(\\S+\\s?\\S*)\\s\\s+(\\S+\\s?\\S*)\\s\\s+(\\S+\\s?\\S*)\\s\\s+(\\S+\\s?\\S*)\\s\\s+(\\S+\\s?\\S*)(.*\\n)',r'\\1\\t\\2\\t\\3\\t\\4\\t\\5\\6',x) for x in a]\n",
    "a=[re.sub(r'(\\S+\\s?\\S*)\\s\\s+(\\S+\\s?\\S*)\\s\\s+(\\S+\\s?\\S*)\\s\\s+(\\S+\\s?\\S*)(.*\\n)',r'\\1\\t\\2\\t\\3\\t\\4\\5',x) for x in a]\n",
    "print(\"7/10\")\n",
    "a=[re.sub(r'(\\S+\\s?\\S*)\\s\\s+(\\S+\\s?\\S*)\\s\\s+(\\S+\\s?\\S*)(.*\\n)',r'\\1\\t\\2\\t\\3\\4',x) for x in a]\n",
    "a=[re.sub(r'(\\S+\\s?\\S*)\\s\\s+(\\S+\\s?\\S*)(.*\\n)',r'\\1\\t\\2\\3',x) for x in a]\n",
    "print(\"8/10\")\n",
    "a=[x.replace('{hline}','-----------------------------------------------------------') for x in a]\n",
    "\n",
    "a=[re.sub(r'\\A{c \\|}',r'|\\t',x) for x in a]\n",
    "a=[re.sub(r'{c \\|}$',r'\\t|',x) for x in a]\n",
    "a=[re.sub(r'{c \\|}',r'\\t|\\t',x) for x in a]\n",
    "a=[re.sub(r'{c -}',r'\\t-\\t',x) for x in a]\n",
    "a=[re.sub(r'(\\d+.?\\d*)\\s\\((\\d+.?\\d*%)\\)(.*\\n)',r'\\1\\t\\2\\3',x) for x in a]\n",
    "print(\"9/10\")\n",
    "n=len(a)\n",
    "\n",
    "#for i in range(n):\n",
    "#    print((a[i]))\n",
    "print(\"10/10\")\n",
    "f = open('/Users/Pineapple/Downloads/table1c.txt','w')\n",
    "for i in range(n):\n",
    "    f.write((a[i]))\n",
    "\n",
    "f.close()"
   ]
  },
  {
   "cell_type": "code",
   "execution_count": null,
   "metadata": {
    "collapsed": true
   },
   "outputs": [],
   "source": []
  },
  {
   "cell_type": "code",
   "execution_count": null,
   "metadata": {
    "collapsed": true
   },
   "outputs": [],
   "source": [
    "a=[re.sub(r'{it:(.*?)}',r'\\1',x) for x in a]\n",
    "a=[re.sub(r'(\\d+.?\\d*)\\s+(\\d+.?\\d*)\\s+(\\d+.?\\d*)\\s+(\\d+.?\\d*)\\s+(\\d+.?\\d*)\\s+(\\d+.?\\d*)\\s+(\\d+.?\\d*)\\s+(\\d+.?\\d*)\\s+(\\d+.?\\d*)\\s+(\\d+.?\\d*)\\s+(\\d+.?\\d*)\\s+(\\d+.?\\d*)\\s+(\\d+.?\\d*)\\s+(\\d+.?\\d*)\\s+(\\d+.?\\d*)(.*\\n)',r'\\1\\t\\2\\t\\3\\t\\4\\t\\5\\t\\6\\t\\7\\t\\8\\t\\9\\t\\10\\t\\11\\t\\12\\t\\13\\t\\14\\t\\15\\16',x) for x in a]\n",
    "a=[re.sub(r'(\\d+.?\\d*)\\s+(\\d+.?\\d*)\\s+(\\d+.?\\d*)\\s+(\\d+.?\\d*)\\s+(\\d+.?\\d*)\\s+(\\d+.?\\d*)\\s+(\\d+.?\\d*)\\s+(\\d+.?\\d*)\\s+(\\d+.?\\d*)\\s+(\\d+.?\\d*)\\s+(\\d+.?\\d*)\\s+(\\d+.?\\d*)\\s+(\\d+.?\\d*)\\s+(\\d+.?\\d*)(.*\\n)',r'\\1\\t\\2\\t\\3\\t\\4\\t\\5\\t\\6\\t\\7\\t\\8\\t\\9\\t\\10\\t\\11\\t\\12\\t\\13\\t\\14\\15',x) for x in a]\n",
    "a=[re.sub(r'(\\d+.?\\d*)\\s+(\\d+.?\\d*)\\s+(\\d+.?\\d*)\\s+(\\d+.?\\d*)\\s+(\\d+.?\\d*)\\s+(\\d+.?\\d*)\\s+(\\d+.?\\d*)\\s+(\\d+.?\\d*)\\s+(\\d+.?\\d*)\\s+(\\d+.?\\d*)\\s+(\\d+.?\\d*)\\s+(\\d+.?\\d*)\\s+(\\d+.?\\d*)(.*\\n)',r'\\1\\t\\2\\t\\3\\t\\4\\t\\5\\t\\6\\t\\7\\t\\8\\t\\9\\t\\10\\t\\11\\t\\12\\t\\13\\14',x) for x in a]\n",
    "a=[re.sub(r'(\\d+.?\\d*)\\s+(\\d+.?\\d*)\\s+(\\d+.?\\d*)\\s+(\\d+.?\\d*)\\s+(\\d+.?\\d*)\\s+(\\d+.?\\d*)\\s+(\\d+.?\\d*)\\s+(\\d+.?\\d*)\\s+(\\d+.?\\d*)\\s+(\\d+.?\\d*)\\s+(\\d+.?\\d*)\\s+(\\d+.?\\d*)(.*\\n)',r'\\1\\t\\2\\t\\3\\t\\4\\t\\5\\t\\6\\t\\7\\t\\8\\t\\9\\t\\10\\t\\11\\t\\12\\13',x) for x in a]\n",
    "a=[re.sub(r'(\\d+.?\\d*)\\s+(\\d+.?\\d*)\\s+(\\d+.?\\d*)\\s+(\\d+.?\\d*)\\s+(\\d+.?\\d*)\\s+(\\d+.?\\d*)\\s+(\\d+.?\\d*)\\s+(\\d+.?\\d*)\\s+(\\d+.?\\d*)\\s+(\\d+.?\\d*)\\s+(\\d+.?\\d*)(.*\\n)',r'\\1\\t\\2\\t\\3\\t\\4\\t\\5\\t\\6\\t\\7\\t\\8\\t\\9\\t\\10\\t\\11\\12',x) for x in a]\n",
    "a=[re.sub(r'(\\d+.?\\d*)\\s+(\\d+.?\\d*)\\s+(\\d+.?\\d*)\\s+(\\d+.?\\d*)\\s+(\\d+.?\\d*)\\s+(\\d+.?\\d*)\\s+(\\d+.?\\d*)\\s+(\\d+.?\\d*)\\s+(\\d+.?\\d*)\\s+(\\d+.?\\d*)(.*\\n)',r'\\1\\t\\2\\t\\3\\t\\4\\t\\5\\t\\6\\t\\7\\t\\8\\t\\9\\t\\10\\11',x) for x in a]\n",
    "a=[re.sub(r'(\\d+.?\\d*)\\s+(\\d+.?\\d*)\\s+(\\d+.?\\d*)\\s+(\\d+.?\\d*)\\s+(\\d+.?\\d*)\\s+(\\d+.?\\d*)\\s+(\\d+.?\\d*)\\s+(\\d+.?\\d*)\\s+(\\d+.?\\d*)(.*\\n)',r'\\1\\t\\2\\t\\3\\t\\4\\t\\5\\t\\6\\t\\7\\t\\8\\t\\9\\10',x) for x in a]\n",
    "a=[re.sub(r'(\\d+.?\\d*)\\s+(\\d+.?\\d*)\\s+(\\d+.?\\d*)\\s+(\\d+.?\\d*)\\s+(\\d+.?\\d*)\\s+(\\d+.?\\d*)\\s+(\\d+.?\\d*)\\s+(\\d+.?\\d*)(.*\\n)',r'\\1\\t\\2\\t\\3\\t\\4\\t\\5\\t\\6\\t\\7\\t\\8\\9',x) for x in a]\n",
    "a=[re.sub(r'(\\d+.?\\d*)\\s+(\\d+.?\\d*)\\s+(\\d+.?\\d*)\\s+(\\d+.?\\d*)\\s+(\\d+.?\\d*)\\s+(\\d+.?\\d*)\\s+(\\d+.?\\d*)(.*\\n)',r'\\1\\t\\2\\t\\3\\t\\4\\t\\5\\t\\6\\t\\7\\8',x) for x in a]\n",
    "a=[re.sub(r'(\\d+.?\\d*)\\s+(\\d+.?\\d*)\\s+(\\d+.?\\d*)\\s+(\\d+.?\\d*)\\s+(\\d+.?\\d*)\\s+(\\d+.?\\d*)(.*\\n)',r'\\1\\t\\2\\t\\3\\t\\4\\t\\5\\t\\6\\7',x) for x in a]\n",
    "a=[re.sub(r'(\\d+.?\\d*)\\s+(\\d+.?\\d*)\\s+(\\d+.?\\d*)\\s+(\\d+.?\\d*)\\s+(\\d+.?\\d*)(.*\\n)',r'\\1\\t\\2\\t\\3\\t\\4\\t\\5\\6',x) for x in a]\n",
    "a=[re.sub(r'(\\d+.?\\d*)\\s+(\\d+.?\\d*)\\s+(\\d+.?\\d*)\\s+(\\d+.?\\d*)(.*\\n)',r'\\1\\t\\2\\t\\3\\t\\4\\5',x) for x in a]\n",
    "a=[re.sub(r'(\\d+.?\\d*)\\s+(\\d+.?\\d*)\\s+(\\d+.?\\d*)(.*\\n)',r'\\1\\t\\2\\t\\3\\4',x) for x in a]\n",
    "a=[re.sub(r'(\\d+.?\\d*)\\s+(\\d+.?\\d*)(.*\\n)',r'\\1\\t\\2\\3',x) for x in a]"
   ]
  },
  {
   "cell_type": "code",
   "execution_count": 13,
   "metadata": {},
   "outputs": [
    {
     "name": "stdout",
     "output_type": "stream",
     "text": [
      "['mRS0-2   mRS3-5    mRS6\\n', '3.3   3.5    2.3\\n', '5.5   4.4  3.2\\n']\n",
      "['mRS0-2\\tmRS3-5\\tmRS6\\n', '3.3\\t3.5\\t2.3\\n', '5.5\\t4.4\\t3.2\\n']\n"
     ]
    }
   ],
   "source": [
    "#!/usr/bin/env python\n",
    "import re\n",
    "a=['mRS0-2   mRS3-5    mRS6\\n','3.3   3.5    2.3\\n','5.5   4.4  3.2\\n']\n",
    "\n",
    "print(a)\n",
    "a=[re.sub(r'(\\S+)\\s\\s+(\\S+)\\s\\s+(\\S+)(.*\\n)',r'\\1\\t\\2\\t\\3\\4',x) for x in a]\n",
    "\n",
    "print(a)\n"
   ]
  },
  {
   "cell_type": "code",
   "execution_count": 105,
   "metadata": {},
   "outputs": [
    {
     "name": "stdout",
     "output_type": "stream",
     "text": [
      "['ab\\tcd e\\tff  gg\\n', '.003\\t.006 \\tff5  gg\\n', 'ab\\tcd e\\tff2  gg\\n', 'ab\\t2 cd 3\\tffgg\\n', 'ab\\tcd  e\\tfff  gg\\n']\n"
     ]
    }
   ],
   "source": [
    "#!/usr/bin/env python\n",
    "import re\n",
    "\n",
    "\n",
    "\n",
    "a=['ab   cd e   ff  gg\\n','.003     .006   ff5  gg\\n','ab   cd e   ff2  gg\\n','ab  2 cd 3   ffgg\\n','ab   cd  e   fff  gg\\n']\n",
    "\n",
    "#a=[re.sub(r'(\\d+.?\\d*)\\s\\((\\d+.?\\s?\\d*%?)\\)',r'\\1\\t\\2',x) for x in a]\n",
    "a=[re.sub(r'\\s{2,}((?:\\S+\\s?\\S*)+)',r'\\t\\1',x) for x in a]\n",
    "\n",
    "n=len(a)\n",
    "\n",
    "#for i in range(n):\n",
    "#    print((a[i]))\n",
    "print(a)\n"
   ]
  },
  {
   "cell_type": "code",
   "execution_count": 100,
   "metadata": {},
   "outputs": [
    {
     "name": "stdout",
     "output_type": "stream",
     "text": [
      "-b-c-\n",
      "['ab\\tcd e\\ts s s\\t60.3 (20.1%)\\tff  gg\\n']\n"
     ]
    }
   ],
   "source": [
    "import re\n",
    "print(re.sub('a*', '-', 'abc'))\n",
    "a=[]\n",
    "a.append(re.sub(r'\\s{2,}((?:\\S+\\s?\\S*)+)',r'\\t\\1','ab   cd e   s s s      60.3 (20.1%)   ff  gg\\n'))\n",
    "print(a)"
   ]
  },
  {
   "cell_type": "code",
   "execution_count": null,
   "metadata": {
    "collapsed": true
   },
   "outputs": [],
   "source": [
    "a=[re.sub(r'(\\S+\\s?\\S*)\\s\\s+(\\S+\\s?\\S*)\\s\\s+(\\S+\\s?\\S*)\\s\\s+(\\S+\\s?\\S*)\\s\\s+(\\S+\\s?\\S*)\\s\\s+(\\S+\\s?\\S*)\\s\\s+(\\S+\\s?\\S*)\\s\\s+(\\S+\\s?\\S*)\\s\\s+(\\S+\\s?\\S*)\\s\\s+(\\S+\\s?\\S*)\\s\\s+(\\S+\\s?\\S*)\\s\\s+(\\S+\\s?\\S*)\\s\\s+(\\S+\\s?\\S*)\\s\\s+(\\S+\\s?\\S*)\\s\\s+(\\S+\\s?\\S*)(.*\\n)',r'\\1\\t\\2\\t\\3\\t\\4\\t\\5\\t\\6\\t\\7\\t\\8\\t\\9\\t\\10\\t\\11\\t\\12\\t\\13\\t\\14\\t\\15\\16',x) for x in a]\n",
    "print(\"3/10\")\n",
    "a=[re.sub(r'(\\S+\\s?\\S*)\\s\\s+(\\S+\\s?\\S*)\\s\\s+(\\S+\\s?\\S*)\\s\\s+(\\S+\\s?\\S*)\\s\\s+(\\S+\\s?\\S*)\\s\\s+(\\S+\\s?\\S*)\\s\\s+(\\S+\\s?\\S*)\\s\\s+(\\S+\\s?\\S*)\\s\\s+(\\S+\\s?\\S*)\\s\\s+(\\S+\\s?\\S*)\\s\\s+(\\S+\\s?\\S*)\\s\\s+(\\S+\\s?\\S*)\\s\\s+(\\S+\\s?\\S*)\\s\\s+(\\S+\\s?\\S*)(.*\\n)',r'\\1\\t\\2\\t\\3\\t\\4\\t\\5\\t\\6\\t\\7\\t\\8\\t\\9\\t\\10\\t\\11\\t\\12\\t\\13\\t\\14\\15',x) for x in a]\n",
    "print(\"4/10\")\n",
    "a=[re.sub(r'(\\S+\\s?\\S*)\\s\\s+(\\S+\\s?\\S*)\\s\\s+(\\S+\\s?\\S*)\\s\\s+(\\S+\\s?\\S*)\\s\\s+(\\S+\\s?\\S*)\\s\\s+(\\S+\\s?\\S*)\\s\\s+(\\S+\\s?\\S*)\\s\\s+(\\S+\\s?\\S*)\\s\\s+(\\S+\\s?\\S*)\\s\\s+(\\S+\\s?\\S*)\\s\\s+(\\S+\\s?\\S*)\\s\\s+(\\S+\\s?\\S*)\\s\\s+(\\S+\\s?\\S*)(.*\\n)',r'\\1\\t\\2\\t\\3\\t\\4\\t\\5\\t\\6\\t\\7\\t\\8\\t\\9\\t\\10\\t\\11\\t\\12\\t\\13\\14',x) for x in a]\n",
    "a=[re.sub(r'(\\S+\\s?\\S*)\\s\\s+(\\S+\\s?\\S*)\\s\\s+(\\S+\\s?\\S*)\\s\\s+(\\S+\\s?\\S*)\\s\\s+(\\S+\\s?\\S*)\\s\\s+(\\S+\\s?\\S*)\\s\\s+(\\S+\\s?\\S*)\\s\\s+(\\S+\\s?\\S*)\\s\\s+(\\S+\\s?\\S*)\\s\\s+(\\S+\\s?\\S*)\\s\\s+(\\S+\\s?\\S*)\\s\\s+(\\S+\\s?\\S*)(.*\\n)',r'\\1\\t\\2\\t\\3\\t\\4\\t\\5\\t\\6\\t\\7\\t\\8\\t\\9\\t\\10\\t\\11\\t\\12\\13',x) for x in a]\n",
    "print(\"5/10\")\n",
    "a=[re.sub(r'(\\S+\\s?\\S*)\\s\\s+(\\S+\\s?\\S*)\\s\\s+(\\S+\\s?\\S*)\\s\\s+(\\S+\\s?\\S*)\\s\\s+(\\S+\\s?\\S*)\\s\\s+(\\S+\\s?\\S*)\\s\\s+(\\S+\\s?\\S*)\\s\\s+(\\S+\\s?\\S*)\\s\\s+(\\S+\\s?\\S*)\\s\\s+(\\S+\\s?\\S*)\\s\\s+(\\S+\\s?\\S*)(.*\\n)',r'\\1\\t\\2\\t\\3\\t\\4\\t\\5\\t\\6\\t\\7\\t\\8\\t\\9\\t\\10\\t\\11\\12',x) for x in a]\n",
    "a=[re.sub(r'(\\S+\\s?\\S*)\\s\\s+(\\S+\\s?\\S*)\\s\\s+(\\S+\\s?\\S*)\\s\\s+(\\S+\\s?\\S*)\\s\\s+(\\S+\\s?\\S*)\\s\\s+(\\S+\\s?\\S*)\\s\\s+(\\S+\\s?\\S*)\\s\\s+(\\S+\\s?\\S*)\\s\\s+(\\S+\\s?\\S*)\\s\\s+(\\S+\\s?\\S*)(.*\\n)',r'\\1\\t\\2\\t\\3\\t\\4\\t\\5\\t\\6\\t\\7\\t\\8\\t\\9\\t\\10\\11',x) for x in a]\n",
    "a=[re.sub(r'(\\S+\\s?\\S*)\\s\\s+(\\S+\\s?\\S*)\\s\\s+(\\S+\\s?\\S*)\\s\\s+(\\S+\\s?\\S*)\\s\\s+(\\S+\\s?\\S*)\\s\\s+(\\S+\\s?\\S*)\\s\\s+(\\S+\\s?\\S*)\\s\\s+(\\S+\\s?\\S*)\\s\\s+(\\S+\\s?\\S*)(.*\\n)',r'\\1\\t\\2\\t\\3\\t\\4\\t\\5\\t\\6\\t\\7\\t\\8\\t\\9\\10',x) for x in a]\n",
    "a=[re.sub(r'(\\S+\\s?\\S*)\\s\\s+(\\S+\\s?\\S*)\\s\\s+(\\S+\\s?\\S*)\\s\\s+(\\S+\\s?\\S*)\\s\\s+(\\S+\\s?\\S*)\\s\\s+(\\S+\\s?\\S*)\\s\\s+(\\S+\\s?\\S*)\\s\\s+(\\S+\\s?\\S*)(.*\\n)',r'\\1\\t\\2\\t\\3\\t\\4\\t\\5\\t\\6\\t\\7\\t\\8\\9',x) for x in a]\n",
    "print(\"6/10\")\n",
    "a=[re.sub(r'(\\S+\\s?\\S*)\\s\\s+(\\S+\\s?\\S*)\\s\\s+(\\S+\\s?\\S*)\\s\\s+(\\S+\\s?\\S*)\\s\\s+(\\S+\\s?\\S*)\\s\\s+(\\S+\\s?\\S*)\\s\\s+(\\S+\\s?\\S*)(.*\\n)',r'\\1\\t\\2\\t\\3\\t\\4\\t\\5\\t\\6\\t\\7\\8',x) for x in a]\n",
    "a=[re.sub(r'(\\S+\\s?\\S*)\\s\\s+(\\S+\\s?\\S*)\\s\\s+(\\S+\\s?\\S*)\\s\\s+(\\S+\\s?\\S*)\\s\\s+(\\S+\\s?\\S*)\\s\\s+(\\S+\\s?\\S*)(.*\\n)',r'\\1\\t\\2\\t\\3\\t\\4\\t\\5\\t\\6\\7',x) for x in a]\n",
    "a=[re.sub(r'(\\S+\\s?\\S*)\\s\\s+(\\S+\\s?\\S*)\\s\\s+(\\S+\\s?\\S*)\\s\\s+(\\S+\\s?\\S*)\\s\\s+(\\S+\\s?\\S*)(.*\\n)',r'\\1\\t\\2\\t\\3\\t\\4\\t\\5\\6',x) for x in a]\n",
    "a=[re.sub(r'(\\S+\\s?\\S*)\\s\\s+(\\S+\\s?\\S*)\\s\\s+(\\S+\\s?\\S*)\\s\\s+(\\S+\\s?\\S*)(.*\\n)',r'\\1\\t\\2\\t\\3\\t\\4\\5',x) for x in a]\n",
    "print(\"7/10\")\n",
    "a=[re.sub(r'(\\S+\\s?\\S*)\\s\\s+(\\S+\\s?\\S*)\\s\\s+(\\S+\\s?\\S*)(.*\\n)',r'\\1\\t\\2\\t\\3\\4',x) for x in a]\n",
    "a=[re.sub(r'(\\S+\\s?\\S*)\\s\\s+(\\S+\\s?\\S*)(.*\\n)',r'\\1\\t\\2\\3',x) for x in a]"
   ]
  },
  {
   "cell_type": "code",
   "execution_count": 93,
   "metadata": {},
   "outputs": [
    {
     "name": "stdout",
     "output_type": "stream",
     "text": [
      "['文字列', '---文字列２----------', '----- 文字列３']\n"
     ]
    }
   ],
   "source": [
    "import re\n",
    "a=['文字列','{hline 3}文字列２{hline 10}','{hline 5} 文字列３']\n",
    "a=[re.sub(r'\\{hline +([0-9]+)\\}', lambda x: '-' * int(x.group(1)), l) for l in a]\n",
    "print(a)"
   ]
  },
  {
   "cell_type": "code",
   "execution_count": 109,
   "metadata": {},
   "outputs": [
    {
     "name": "stdout",
     "output_type": "stream",
     "text": [
      "['\\tchf_with {c |}{col 20}{res}\\t-.9687381{col 32}\\t   1.0963{col 43}\\t   -3.117447{col 73}\\t 1.179971', 'chdf_admwithin1day {c |}{col 20}{res}\\t-.5332361{col 32}\\t 1.243017{col 43}\\t   -2.969506{col 73}\\t 1.903033', '\\tnad_admwithin1day {c |}{col 20}{res}\\t 1.328251{col 32}\\t .6118287{col 43}\\t     .1290887{col 73}\\t 2.527413']\n"
     ]
    }
   ],
   "source": [
    "import re\n",
    "a=['{txt}{space 10}chf_with {c |}{col 20}{res}{space 2}-.9687381{col 32}{space 2}   1.0963{col 43}{space 1}   -3.117447{col 73}{space 3} 1.179971',\n",
    "'{txt}chdf_admwithin1day {c |}{col 20}{res}{space 2}-.5332361{col 32}{space 2} 1.243017{col 43}{space 1}   -2.969506{col 73}{space 3} 1.903033',\n",
    "'{txt}{space 1}nad_admwithin1day {c |}{col 20}{res}{space 2} 1.328251{col 32}{space 2} .6118287{col 43}{space 1}     .1290887{col 73}{space 3} 2.527413']\n",
    "\n",
    "a=[x.replace('{txt}','') for x in a]\n",
    "a=[re.sub(r'\\{space.*?\\}',r'\\t',x) for x in a]\n",
    "print(a)"
   ]
  },
  {
   "cell_type": "code",
   "execution_count": 122,
   "metadata": {},
   "outputs": [
    {
     "name": "stdout",
     "output_type": "stream",
     "text": [
      "['文字列', '---\\t文字列２----------\\t', '-----\\t 文字列３']\n"
     ]
    }
   ],
   "source": [
    "import re\n",
    "a=['文字列','{hline 3}文字列２{hline 10}','{hline 5} 文字列３']\n",
    "a=[re.sub(r'\\{hline +([0-9]+)\\}', lambda m: ('-' * int(m.group(1))+'\\t'), x) for x in a]\n",
    "print(a)"
   ]
  },
  {
   "cell_type": "code",
   "execution_count": 120,
   "metadata": {},
   "outputs": [
    {
     "ename": "TypeError",
     "evalue": "unsupported operand type(s) for &: 'str' and 'str'",
     "output_type": "error",
     "traceback": [
      "\u001b[0;31m---------------------------------------------------------------------------\u001b[0m",
      "\u001b[0;31mTypeError\u001b[0m                                 Traceback (most recent call last)",
      "\u001b[0;32m<ipython-input-120-4ebcccab685f>\u001b[0m in \u001b[0;36m<module>\u001b[0;34m()\u001b[0m\n\u001b[0;32m----> 1\u001b[0;31m \u001b[0mprint\u001b[0m\u001b[0;34m(\u001b[0m\u001b[0;34m'a'\u001b[0m\u001b[0;34m&\u001b[0m\u001b[0;34m'b'\u001b[0m\u001b[0;34m)\u001b[0m\u001b[0;34m\u001b[0m\u001b[0m\n\u001b[0m",
      "\u001b[0;31mTypeError\u001b[0m: unsupported operand type(s) for &: 'str' and 'str'"
     ]
    }
   ],
   "source": [
    "print('a'&'b')"
   ]
  },
  {
   "cell_type": "code",
   "execution_count": null,
   "metadata": {
    "collapsed": true
   },
   "outputs": [],
   "source": []
  }
 ],
 "metadata": {
  "kernelspec": {
   "display_name": "Python 3",
   "language": "python",
   "name": "python3"
  },
  "language_info": {
   "codemirror_mode": {
    "name": "ipython",
    "version": 3
   },
   "file_extension": ".py",
   "mimetype": "text/x-python",
   "name": "python",
   "nbconvert_exporter": "python",
   "pygments_lexer": "ipython3",
   "version": "3.7.4"
  }
 },
 "nbformat": 4,
 "nbformat_minor": 2
}
